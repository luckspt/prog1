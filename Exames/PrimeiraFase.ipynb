{
 "cells": [
  {
   "cell_type": "markdown",
   "id": "4f521d01",
   "metadata": {},
   "source": [
    "# Grupo 1\n",
    "### \\[1.5 + 1.5 + 2.0 + 2.0 valores\\] Defina as seguintes funções:\n",
    "\n",
    "1. `digitos`, que recebe um número inteiro positivo e devove uma lista de inteiros, composta pelos seus dígitos.\n",
    "\n",
    "    Por exemplo,\n",
    "    \n",
    "    `digitos(538) = [5, 3, 8]`"
   ]
  },
  {
   "cell_type": "code",
   "execution_count": 5,
   "id": "52ea855c",
   "metadata": {},
   "outputs": [
    {
     "output_type": "execute_result",
     "data": {
      "text/plain": [
       "[5, 3, 8]"
      ]
     },
     "metadata": {},
     "execution_count": 5
    }
   ],
   "source": [
    "def digitos(n):\n",
    "    digs = []\n",
    "    while n != 0:\n",
    "        digs.insert(0, n%10)\n",
    "        n = n // 10\n",
    "    return digs\n",
    "\n",
    "digitos(538)"
   ]
  },
  {
   "source": [
    "2. `dividirPor3`, que determina se um valor inteiro positivo é divisível por três, usando o algoritmo de somar os seus dígitos e verificar se esta soma é divisível por três.\n",
    "\n",
    "    Por exemplo,\n",
    "\n",
    "    `dividirPor3(538) = False` porque `5+3+8=16` e `16` não é divisível por três."
   ],
   "cell_type": "markdown",
   "metadata": {}
  },
  {
   "cell_type": "code",
   "execution_count": 7,
   "metadata": {},
   "outputs": [
    {
     "output_type": "execute_result",
     "data": {
      "text/plain": [
       "False"
      ]
     },
     "metadata": {},
     "execution_count": 7
    }
   ],
   "source": [
    "def dividirPor3(n):\n",
    "    soma = sum(digitos(n))\n",
    "    return soma % 3 == 0\n",
    "\n",
    "dividirPor3(538)"
   ]
  },
  {
   "source": [
    "3. `dividirPor3`, rescreva a função anterior de forma que, se a soma dos dígitos for maior ou igual a 10, então deve continuar a aplicar o mesmo algoritmo recursivamente até chegar a um valor menor que 10. Aí, se o valor final for 3, 6, ou 9, então o número original é divisível por três.\n",
    "\n",
    "    Por exemplo,\n",
    "\n",
    "    `dividirPor3(538) = dividirPor3(16) = dividirPor3(7) = False`"
   ],
   "cell_type": "markdown",
   "metadata": {}
  },
  {
   "cell_type": "code",
   "execution_count": 9,
   "metadata": {},
   "outputs": [
    {
     "output_type": "execute_result",
     "data": {
      "text/plain": [
       "False"
      ]
     },
     "metadata": {},
     "execution_count": 9
    }
   ],
   "source": [
    "def dividirPor3(n):\n",
    "    soma = sum(digitos(n))\n",
    "\n",
    "    if soma >= 10:\n",
    "        return dividirPor3(soma)\n",
    "    elif soma in (3, 6, 9):\n",
    "        return True\n",
    "    else:\n",
    "        return False\n",
    "dividirPor3(538)"
   ]
  },
  {
   "source": [
    "4. Considere a função `somaDois` que recebe um inteiro positivo *n* e calcula a soma dos *n* primeiros termos da sequência **2,22,222,2222....**\n",
    "\n",
    "    Por exemplo,\n",
    "\n",
    "    `somaDois(0) = 0`   `somaDois(3) = 2+22+222 = 246`\n",
    "\n",
    "    Implemente `somaDois` com listas por compreensão (pode usar outras funções para além das listas).\n",
    "\n",
    "    Se não conseguir fazer com listas por compreensão, resolva de outra forma para metade da cotação."
   ],
   "cell_type": "markdown",
   "metadata": {}
  },
  {
   "cell_type": "code",
   "execution_count": 15,
   "metadata": {},
   "outputs": [
    {
     "output_type": "stream",
     "name": "stdout",
     "text": [
      "somaDois(0) 0\nsomaDois(3) 246\n"
     ]
    }
   ],
   "source": [
    "def somaDois(n):\n",
    "    seq = [int('2'*(i+1)) for i in range(n)]\n",
    "    return sum(seq)\n",
    "\n",
    "print('somaDois(0)', somaDois(0))\n",
    "print('somaDois(3)', somaDois(3))"
   ]
  },
  {
   "source": [
    "# Grupo 2\n",
    "### \\[1.0 + 1.0 + 1.0 valores\\] Seja a função fatorial definida da seguinte forma:"
   ],
   "cell_type": "markdown",
   "metadata": {}
  },
  {
   "cell_type": "code",
   "execution_count": 24,
   "metadata": {},
   "outputs": [],
   "source": [
    "def fatorial(n):\n",
    "    if n == 0:\n",
    "        return 1\n",
    "    return n * fatorial(n-1)"
   ]
  },
  {
   "source": [
    "1. Inclua duas pré-condições necessárias."
   ],
   "cell_type": "markdown",
   "metadata": {}
  },
  {
   "cell_type": "code",
   "execution_count": null,
   "metadata": {},
   "outputs": [],
   "source": [
    "def fatorial(n):\n",
    "    \"\"\"\n",
    "    Requires: type(n) == int and n>=0\n",
    "    \"\"\"\n",
    "    if n == 0:\n",
    "        return 1\n",
    "    return n * fatorial(n-1)"
   ]
  },
  {
   "source": [
    "2. Inclua dois testes relevantes usando a sintaxe da biblioteca `doctest`."
   ],
   "cell_type": "markdown",
   "metadata": {}
  },
  {
   "cell_type": "code",
   "execution_count": null,
   "metadata": {},
   "outputs": [],
   "source": [
    "def fatorial(n):\n",
    "    \"\"\"\n",
    "    >>> fatorial(0)\n",
    "    1\n",
    "    >>> fatorial(3)\n",
    "    2\n",
    "    \"\"\"\n",
    "    if n == 0:\n",
    "        return 1\n",
    "    return n * fatorial(n-1)"
   ]
  },
  {
   "source": [
    "3. Rescreva a função usando um ciclo `for`."
   ],
   "cell_type": "markdown",
   "metadata": {}
  },
  {
   "cell_type": "code",
   "execution_count": 25,
   "metadata": {},
   "outputs": [],
   "source": [
    "def fatorial(n):\n",
    "    prod = 1\n",
    "    for i in range(1, n+1):\n",
    "        prod *= i\n",
    "    return prod"
   ]
  },
  {
   "source": [
    "# Grupo 3\n",
    "### \\[0.75 + 0.5 + 0.75\\] O tipo dicionário é uma das estruturas de dados disponívels na linguagem Python\n",
    "\n",
    "1. Quais das seguintes características são parte dos dicionários? Justifique as suas respostas\n",
    "    - mutabilidade\n",
    "    - indexação\n",
    "    - ordenação (i.e., existe uma ordenação dos seus elementos?)"
   ],
   "cell_type": "markdown",
   "metadata": {}
  },
  {
   "source": [
    "Um dicionário é mutável pois é possível adicionar pares chave/valor, remover, e modificar (apenas o valor. Modificar a chave é remover a entrada e adicionar uma nova).\n",
    "\n",
    "Um dicionário é também indexável através das chaves (do par chave/valor).\n",
    "\n",
    "Um dicionário, a partir da versão 3.7, preserva a ordem de insersão, logo é ordenado (ver [isto](https://mail.python.org/pipermail/python-dev/2017-December/151283.html))."
   ],
   "cell_type": "markdown",
   "metadata": {}
  },
  {
   "source": [
    "2. Que resultado é impresso pela execução do seguinte programa? Justifique."
   ],
   "cell_type": "markdown",
   "metadata": {}
  },
  {
   "cell_type": "code",
   "execution_count": 26,
   "metadata": {},
   "outputs": [
    {
     "output_type": "stream",
     "name": "stdout",
     "text": [
      "230\n"
     ]
    }
   ],
   "source": [
    "def f(dic, k, v):\n",
    "    if k in dic:\n",
    "        dic[k] = v*2\n",
    "    else:\n",
    "        dic[v] = dic[v]*2\n",
    "\n",
    "myDic = {2:10, 4:15, 10:100}\n",
    "f(myDic, 4, 10)\n",
    "f(myDic, 5, 10)\n",
    "print( sum(myDic.values()) )"
   ]
  },
  {
   "source": [
    "O resultado impresso é **230**\n",
    "\n",
    "É de notar que a função f afeta o dicionário porque dicionários são passados por referência.\n",
    "\n",
    "Na linha 7 (*f(myDic, 4, 10)*) o dicionário fica com o valor **20** (10, do *v*, vezes dois) onde a chave é **15** pois o valor 4, do *k*, está presente no dicionário então executa o corpo do primeiro `if`.\n",
    "\n",
    "Na linha 8 (*f(myDic, 5, 10)*), como a chave `k`, de valor 5, não está presente no dicionário, ir-se-à usar o valor `v` como chave, i.e., entraremos no corpo do `else`. O valor da chave 10 do dicionário será então o dobro do seu valor: 100*2 = 200\n",
    "\n",
    "No fim, imprimimos a soma dos valores: 10+20+200 = 230\n"
   ],
   "cell_type": "markdown",
   "metadata": {}
  }
 ],
 "metadata": {
  "kernelspec": {
   "display_name": "Python 3",
   "language": "python",
   "name": "python3"
  },
  "language_info": {
   "codemirror_mode": {
    "name": "ipython",
    "version": 3
   },
   "file_extension": ".py",
   "mimetype": "text/x-python",
   "name": "python",
   "nbconvert_exporter": "python",
   "pygments_lexer": "ipython3",
   "version": "3.9.5-final"
  }
 },
 "nbformat": 4,
 "nbformat_minor": 5
}