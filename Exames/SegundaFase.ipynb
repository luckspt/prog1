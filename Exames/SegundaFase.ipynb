{
 "metadata": {
  "language_info": {
   "codemirror_mode": {
    "name": "ipython",
    "version": 3
   },
   "file_extension": ".py",
   "mimetype": "text/x-python",
   "name": "python",
   "nbconvert_exporter": "python",
   "pygments_lexer": "ipython3",
   "version": "3.9.5-final"
  },
  "orig_nbformat": 2,
  "kernelspec": {
   "name": "python39464bitdbc150dcb00a4e14a15809b00f018beb",
   "display_name": "Python 3.9.4 64-bit"
  }
 },
 "nbformat": 4,
 "nbformat_minor": 2,
 "cells": [
  {
   "source": [
    "# Grupo 1\n",
    "### \\[1.5 + 1.5 + 2.0 + 2.0 valores\\] Defina as seguintes funções:\n",
    "\n",
    "1. `isograma`, que recebe uma *string* e verifica se todos os caracteres são diferentes. Por exemplo,\n",
    "\n",
    "`isograma(\"aAbB\") = True    isograma(\"password\") = False`"
   ],
   "cell_type": "markdown",
   "metadata": {}
  },
  {
   "cell_type": "code",
   "execution_count": null,
   "metadata": {},
   "outputs": [],
   "source": [
    "def isograma(txt):\n",
    "    ordenado = sorted(txt)\n",
    "\n",
    "    for i in range(1, len(ordenado)):\n",
    "        if ordenado[i] == ordenado[i-1]:\n",
    "            return False\n",
    "    return True"
   ]
  },
  {
   "source": [
    "2. `removeVogais`, que recebe uma *string* `s` e devolve uma *string* sem as vogais de `s`, e mantendo a ordem dos restates caracteres. Resolva com uma implementação interativa. Por exemplo,\n",
    "\n",
    "`removeVogais(\"Anterior!\") = \"ntrr!\""
   ],
   "cell_type": "markdown",
   "metadata": {}
  },
  {
   "cell_type": "code",
   "execution_count": null,
   "metadata": {},
   "outputs": [],
   "source": [
    "def removeVogais(txt):\n",
    "    ntxt = ''\n",
    "    for c in txt:\n",
    "        if c.lower() not in 'aeiou':\n",
    "            ntxt += c\n",
    "\n",
    "    return ntxt"
   ]
  },
  {
   "source": [
    "3. Reescreva a função anterior usando uma implementação recursiva."
   ],
   "cell_type": "markdown",
   "metadata": {}
  },
  {
   "cell_type": "code",
   "execution_count": null,
   "metadata": {},
   "outputs": [],
   "source": [
    "def removeVogaisRecur(txt):\n",
    "    if len(txt) == 0:\n",
    "        return ''\n",
    "    c = txt[0] if txt[0].lower() not in 'aeiou' else ''\n",
    "    return c + removeVogaisRecur(txt[1:])"
   ]
  },
  {
   "source": [
    "4. `maiorRepeticao` que recebe uma *string* e devolve o par `(c, n)` onde `c` é o caracter mais repetido consecutivamente na *string*, e `n` o número de repetições. Se houver dois ou mais candidatos, devolver o primeiro mais à esquerda. Para a string vazia, devolver o par `(\"\", 0)`. Por exemplo,\n",
    "\n",
    "`maiorRepeticao(\"aaaabbaaabbbba\") = (\"a\", 4)`"
   ],
   "cell_type": "markdown",
   "metadata": {}
  },
  {
   "cell_type": "code",
   "execution_count": 1,
   "metadata": {},
   "outputs": [],
   "source": [
    "def maiorRepeticao(txt):\n",
    "    ordenado = sorted(txt)\n",
    "\n",
    "    rep = ['', 0]\n",
    "    atual = ['', 0]\n",
    "    for c in ordenado:\n",
    "        if c == atual[0]:\n",
    "            atual[1] += 1\n",
    "        else:\n",
    "            if atual[1] > rep[1]:\n",
    "                rep = list(atual)\n",
    "            rep[0] = c\n",
    "            rep[1] = 1\n",
    "    return tuple(rep)"
   ]
  },
  {
   "source": [
    "# Grupo 2\n",
    "### \\[1.0 + 1.0 + 1.0\\]\n",
    "\n",
    "1. Implemente a função `lerInteiro`, que recebe uma *string* de mensagem devendo ler um inteiro do utilizador de forma robusta (ie, recuperando de um `input` errado usando a excepção `ValueError`) e voltando a perguntar.\n",
    "\n",
    "Por exemplo,\n",
    "\n",
    "```py\n",
    "> lerInteiro(\"introduza um inteiro: \")\n",
    "introduza um inteiro: doze\n",
    "introduza um inteiro: 12.0\n",
    "introduza um inteiro: 12\n",
    "12\n",
    "```"
   ],
   "cell_type": "markdown",
   "metadata": {}
  },
  {
   "cell_type": "code",
   "execution_count": 2,
   "metadata": {},
   "outputs": [],
   "source": [
    "def lerInteiro(txt):\n",
    "    while True:\n",
    "        try:\n",
    "            return int(input(txt))\n",
    "        except ValueError:\n",
    "            continue"
   ]
  },
  {
   "source": [
    "2. Considere a função `diferenca` que devolve um nova lista com os elementos de `lst1` que não pertencem a `lst2`."
   ],
   "cell_type": "markdown",
   "metadata": {}
  },
  {
   "cell_type": "code",
   "execution_count": 3,
   "metadata": {},
   "outputs": [],
   "source": [
    "def diferenca(lst1, lst2):\n",
    "    result = []\n",
    "    for elem in lst1:\n",
    "        if elem not in lst2:\n",
    "            result.append(elem)\n",
    "    return result"
   ]
  },
  {
   "source": [
    "    Escreva quatro testes:\n",
    "    \n",
    "    (a) um teste em que a primeira lista contém a segunda,\n",
    "    \n",
    "    (b) a segunda lista contém a primeira,\n",
    "    \n",
    "    (c) as listas são iguais,\n",
    "    \n",
    "    (d) um teste à sua escolha com uma relação entre as listas não testada nas três primeiras alíneas."
   ],
   "cell_type": "markdown",
   "metadata": {}
  },
  {
   "cell_type": "code",
   "execution_count": null,
   "metadata": {},
   "outputs": [],
   "source": [
    "def diferenca(lst1, lst2):\n",
    "    '''\n",
    "    >>> diferenca([0, 1, 2, 3], [1, 2])\n",
    "    [0, 3]\n",
    "    >>> diferenca([1, 2], [0, 1, 2, 3])\n",
    "    [0, 3]\n",
    "    >>> diferenca([1, 2], [1, 2])\n",
    "    []\n",
    "    >>> diferenca([], [1, 2]) # lst1 vazia e lst2 não vazia\n",
    "    []\n",
    "    '''\n",
    "    result = []\n",
    "    for elem in lst1:\n",
    "        if elem not in lst2:\n",
    "            result.append(elem)\n",
    "    return result"
   ]
  },
  {
   "source": [
    "3. Reescreva a função usando listas por compreensão."
   ],
   "cell_type": "markdown",
   "metadata": {}
  },
  {
   "cell_type": "code",
   "execution_count": null,
   "metadata": {},
   "outputs": [],
   "source": [
    "def diferenca(lst1, lst2):\n",
    "    return [elem for elem in lst1 if elem not in lst2]"
   ]
  },
  {
   "source": [
    "# Grupo 3\n",
    "### \\[1.5 + 0.5\\] Considere a informação dos seguintes dicionários. O primeiro dicionário, `flores`, guarda para cada flor os meses em que esta flora. Por exemplo, a flor *achilea* flora entre os meses de Junho e Setembro. O segundo dicionário refere, para cada pessoa, que flores tem no seu jardim."
   ],
   "cell_type": "markdown",
   "metadata": {}
  },
  {
   "cell_type": "code",
   "execution_count": 30,
   "metadata": {},
   "outputs": [],
   "source": [
    "flores = {\n",
    "    \"achilea\": [6, 7, 8, 9], \"agapanthus\": [6, 7, 8],\n",
    "    \"armeria\": [3, 4, 5], \"rudbeckia\": [7, 8, 9, 10],\n",
    "    \"miscanthus\": [9, 10], \"viburnum\": [12, 1, 2, 3],\n",
    "    \"mahonia\": [10, 11, 12, 1, 2, 3] }\n",
    "\n",
    "jardins = {\n",
    "    \"ana\": [\"rudbeckia\", \"mahonia\"],\n",
    "    \"paulo\": [\"viburnum\", \"mahonia\"],\n",
    "    \"rui\": [\"mahonia\", \"rudbeckia\", \"agapanthus\", \"armeria\"],\n",
    "    \"teresa\": [\"agapanthus\", \"armeria\"] }"
   ]
  },
  {
   "source": [
    "1. Defina a função `emFlorTodoAno` que recebe três argumentos, o nome de uma pessoa, o dicionário com as flores, e o dicionário com os jardins e que verifique se o jardim dessa pessoa está em flor todo o ano. Para estar todo o ano em flor é preciso que, em cada mês do ano, esse jardim tenha pelo menos uma planta em flor."
   ],
   "cell_type": "markdown",
   "metadata": {}
  },
  {
   "source": [
    "def emFlorTodoAno(pessoa, dicFlores, dicJardins):\n",
    "    dicDias = {d: False for d in range(1, 13)}\n",
    "    for f in dicJardins[pessoa]:\n",
    "        for d in dicFlores[f]:\n",
    "            dicDias[d] = True\n",
    "    return all(dicDias.values())"
   ],
   "cell_type": "code",
   "metadata": {},
   "execution_count": 15,
   "outputs": []
  },
  {
   "source": [
    "2. Inclua duas pré-condições necessárias para prevenir erros de execução."
   ],
   "cell_type": "markdown",
   "metadata": {}
  },
  {
   "cell_type": "code",
   "execution_count": 29,
   "metadata": {},
   "outputs": [],
   "source": [
    "def emFlorTodoAno(pessoa, dicFlores, dicJardins):\n",
    "    '''\n",
    "    Requires:\n",
    "        pessoa in dicJardins\n",
    "        not all([f in dicFlores for f in dicJardins[pessoa]])\n",
    "    '''\n",
    "    dicDias = {d: False for d in range(1, 13)}\n",
    "    for f in dicJardins[pessoa]:\n",
    "        for d in dicFlores[f]:\n",
    "            dicDias[d] = True\n",
    "    return all(dicDias.values())"
   ]
  },
  {
   "cell_type": "code",
   "execution_count": null,
   "metadata": {},
   "outputs": [],
   "source": []
  }
 ]
}