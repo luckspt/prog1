{
  "nbformat": 4,
  "nbformat_minor": 0,
  "metadata": {
    "colab": {
      "name": "Comentários AC4.ipynb",
      "provenance": [],
      "collapsed_sections": []
    },
    "kernelspec": {
      "name": "python3",
      "display_name": "Python 3"
    }
  },
  "cells": [
    {
      "cell_type": "markdown",
      "metadata": {
        "id": "nPidIB35ka7E"
      },
      "source": [
        "## Exercício 1"
      ]
    },
    {
      "cell_type": "markdown",
      "metadata": {
        "id": "PVuLDDnTGjBs"
      },
      "source": [
        "Este era um exercício para usar condicionais. Era necessário testar vários casos para detetar quais das seis permutações `[abc,acb,bac,bca,cab,cba]` era a correta."
      ]
    },
    {
      "cell_type": "markdown",
      "metadata": {
        "id": "mvUP8vxlIkMp"
      },
      "source": [
        "## Exercício 2"
      ]
    },
    {
      "cell_type": "markdown",
      "metadata": {
        "id": "wLbb7t6aJJ1b"
      },
      "source": [
        "No exercício da mediana teriam de encontrar o índice do 'meio' da lista. Depois era preciso saber se a lista tinha um número par ou ímpar de elementos e fazer os cálculos correspondentes"
      ]
    },
    {
      "cell_type": "code",
      "metadata": {
        "id": "vCLFeS2TJaip"
      },
      "source": [
        "def mediana(xs):\n",
        "  posicaoMeio = len(xs) // 2\n",
        "  if len(xs) % 2 == 0 :\n",
        "     ...\n",
        "  else:\n",
        "     ..."
      ],
      "execution_count": null,
      "outputs": []
    },
    {
      "cell_type": "markdown",
      "metadata": {
        "id": "ztRsld6nJzv3"
      },
      "source": [
        "A maioria das submissões estavam corretas."
      ]
    },
    {
      "cell_type": "markdown",
      "metadata": {
        "id": "PnlmTdhbKIVr"
      },
      "source": [
        "## Exercício 3"
      ]
    },
    {
      "cell_type": "markdown",
      "metadata": {
        "id": "zt3c7XqbKKr8"
      },
      "source": [
        "A solução recursiva para saber quantos dígitos compõem um número tem como base da recursão: qualquer número positivo menor que 10 tem um dígito."
      ]
    },
    {
      "cell_type": "code",
      "metadata": {
        "id": "hOTfcO0rKX9w"
      },
      "source": [
        "def numDigitos(n):\n",
        "  if n < 10:\n",
        "    return 1\n",
        "  ..."
      ],
      "execution_count": null,
      "outputs": []
    },
    {
      "cell_type": "markdown",
      "metadata": {
        "id": "X4HOIbPNKeG8"
      },
      "source": [
        "Qual era o passo da recursão? Se tirarmos um dígito (por exemplo, o das unidades, até porque é mais fácil tirá-lo, basta dividir por 10) e chamarmos o subproblema com este número mais simples, fica fácil saber a resposta final"
      ]
    },
    {
      "cell_type": "code",
      "metadata": {
        "id": "hCXmXzTEKd0F"
      },
      "source": [
        "def numDigitos(n):\n",
        "  if n < 10:\n",
        "    return 1\n",
        "  return 1 + numDigitos(n//10)"
      ],
      "execution_count": 11,
      "outputs": []
    },
    {
      "cell_type": "markdown",
      "metadata": {
        "id": "ehP1bYECK5Wm"
      },
      "source": [
        "Como referi no fórum, soluções como esta,"
      ]
    },
    {
      "cell_type": "code",
      "metadata": {
        "id": "PoaBVW9HK9Xi"
      },
      "source": [
        "def numDigitos2(n):\n",
        "  return len(str(n))"
      ],
      "execution_count": 16,
      "outputs": []
    },
    {
      "cell_type": "markdown",
      "metadata": {
        "id": "ZhR5se7ILEVi"
      },
      "source": [
        "não estão de acordo com o enunciado, pois não são funções recursivas."
      ]
    },
    {
      "cell_type": "markdown",
      "metadata": {
        "id": "swajTuf8L40o"
      },
      "source": [
        "## Exercício 4\n"
      ]
    },
    {
      "cell_type": "markdown",
      "metadata": {
        "id": "pI-Cl5nGMWWx"
      },
      "source": [
        "Encontrar o mínimo de uma lista recursivamente, precisa que saibamos o que fazer na base e no passo da recursão.\n",
        "\n",
        "A base é considerar a lista mais simples para a qual sabemos o mínimo de imediato: uma lista com um elemento,"
      ]
    },
    {
      "cell_type": "code",
      "metadata": {
        "id": "bGgmH19uMGfB"
      },
      "source": [
        "def minimo(xs):\n",
        "  if len(xs)==1:\n",
        "    return xs[0]\n",
        "  ..."
      ],
      "execution_count": null,
      "outputs": []
    },
    {
      "cell_type": "markdown",
      "metadata": {
        "id": "e_4ZqF2EM0Ov"
      },
      "source": [
        "O passo da recursão é o seguinte: mandamos calcular o mínimo para o resto da lista, e depois decidimos qual deles é o menor, ou a cabeça da lista ou o mínimo do resto."
      ]
    },
    {
      "cell_type": "markdown",
      "metadata": {
        "id": "SuEFacicNPcQ"
      },
      "source": [
        "Vejamos uma solução submetida"
      ]
    },
    {
      "cell_type": "code",
      "metadata": {
        "id": "G0IU9rKuNLDH"
      },
      "source": [
        "def minimo(xs):\n",
        "  if len(xs)==1:\n",
        "    return xs[0]\n",
        "  else:\n",
        "    if xs[0]>xs[1]:\n",
        "        xs.remove(xs[0])\n",
        "        return minimo(xs)\n",
        "    if xs[0]<xs[1]:\n",
        "        xs.remove(xs[1])\n",
        "        return minimo(xs)"
      ],
      "execution_count": null,
      "outputs": []
    },
    {
      "cell_type": "markdown",
      "metadata": {
        "id": "EA55qiSvNTO1"
      },
      "source": [
        "Primeiro comentário: sempre que for prático evitem repetir código. Esta solução poderia ser rescrita assim:"
      ]
    },
    {
      "cell_type": "code",
      "metadata": {
        "id": "J2_ZQQgaNmTO"
      },
      "source": [
        "def minimo(xs):\n",
        "  if len(xs)==1:\n",
        "      return xs[0]\n",
        "      \n",
        "  if xs[0]>xs[1]:\n",
        "      xs.remove(xs[0])\n",
        "  else:\n",
        "      xs.remove(xs[1])\n",
        "  return minimo(xs)"
      ],
      "execution_count": null,
      "outputs": []
    },
    {
      "cell_type": "markdown",
      "metadata": {
        "id": "CkFxgL9CNJ3C"
      },
      "source": [
        "Outro comentário: apesar da solução ser recursiva e procurar o mínimo, está a destruir a lista que foi dada pelo cliente. Por vezes é mesmo isso que queremos, mudar a lista. Mas, neste caso, é um efeito secundário que o cliente pode não estar à espera. \n",
        "\n",
        "Claro que neste caso não precisamos destruir a lista. Mas se tivesse mesmo de ser, conviria descrever na documentação da função que isso iria acontecer.\n",
        "\n",
        "Outra solução seria criar uma cópia da lista, para poder modificá-la à vontade."
      ]
    },
    {
      "cell_type": "markdown",
      "metadata": {
        "id": "AbxiXySdOnVu"
      },
      "source": [
        "Apesar do meu aviso, houve submissões que usaram o sort() para ordenar a lista, colocando o mínimo na primeira posição.\n",
        "\n",
        "Para além de não cumprir o requisito do enunciado de ser recursiva, tem exatamente o mesmo problema da solução anterior: altera a lista dada pelo cliente."
      ]
    },
    {
      "cell_type": "code",
      "metadata": {
        "id": "wk1xIvSiOut-",
        "outputId": "f6a9971b-b510-4055-9634-703402cae7d7",
        "colab": {
          "base_uri": "https://localhost:8080/"
        }
      },
      "source": [
        "def minimo(xs):\n",
        "  xs.sort()\n",
        "  return xs[0]\n",
        "\n",
        "lista = [5,3,1,6]\n",
        "print(minimo(lista))\n",
        "print(lista)"
      ],
      "execution_count": 20,
      "outputs": [
        {
          "output_type": "stream",
          "text": [
            "1\n",
            "[1, 3, 5, 6]\n"
          ],
          "name": "stdout"
        }
      ]
    },
    {
      "cell_type": "markdown",
      "metadata": {
        "id": "FpxeUFfxPfqK"
      },
      "source": [
        "## Exercício 5"
      ]
    },
    {
      "cell_type": "markdown",
      "metadata": {
        "id": "bfsqEyv0PhY8"
      },
      "source": [
        "Neste problema houve submissões com comentários que não tinham percebido o enunciado. Não se esqueçam que podem usar o fórum de dúvidas para pedir esclarecimentos sobre as perguntas."
      ]
    },
    {
      "cell_type": "markdown",
      "metadata": {
        "id": "IdgzBOT0QwXV"
      },
      "source": [
        "Observemos uma submissão que não passou nos testes:"
      ]
    },
    {
      "cell_type": "code",
      "metadata": {
        "id": "Kv68z83mQX37"
      },
      "source": [
        "def apenas_5_3(x):\n",
        "    if x%3==0 and x>3:\n",
        "        return apenas_5_3(x/3)\n",
        "    elif x>5:\n",
        "        return apenas_5_3(x-5)\n",
        "    elif x==3 or x==5:\n",
        "        return True\n",
        "    else:\n",
        "        return False"
      ],
      "execution_count": null,
      "outputs": []
    },
    {
      "cell_type": "markdown",
      "metadata": {
        "id": "Zgr3QAolQ4Ct"
      },
      "source": [
        "Primeiro: lá temos o if true else false que vos tenho avisado para não fazer!! Mudemos isso antes de ver o resto:"
      ]
    },
    {
      "cell_type": "code",
      "metadata": {
        "id": "ZFZzI4wbRAA5"
      },
      "source": [
        "def apenas_5_3(x):\n",
        "    if x%3==0 and x>3:\n",
        "        return apenas_5_3(x/3)\n",
        "    elif x>5:\n",
        "        return apenas_5_3(x-5)\n",
        "    else:\n",
        "        return x==3 or x==5"
      ],
      "execution_count": 23,
      "outputs": []
    },
    {
      "cell_type": "markdown",
      "metadata": {
        "id": "ppTf0PMGRMPy"
      },
      "source": [
        "Este foi um erro típico. Lá por um número ser divisível por 3 não quer dizer que a solução comece por aí. Desta forma estão a prevenir a possibilidade de testar a opção de subtrair por 5 para todos os divisores de 3 (estas duas operações não são comutativas).\n",
        "\n",
        "Um exemplo disto é o número 18. Se começarem a dividir por 3, ficam com 6, depois dividem por 3 novamente e ficam com 2, devolvendo a função o valor `False`. No entanto, 18 = 3+5+5+5."
      ]
    }
  ]
}