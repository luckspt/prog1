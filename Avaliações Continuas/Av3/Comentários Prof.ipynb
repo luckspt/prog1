{
 "cells": [
  {
   "cell_type": "markdown",
   "metadata": {
    "id": "nPidIB35ka7E"
   },
   "source": [
    "## Exercício 1"
   ]
  },
  {
   "cell_type": "markdown",
   "metadata": {
    "id": "DUWHn2egiOWt"
   },
   "source": [
    "A seguinte solução (houve várias) faz o que eu vos disse para não fazer com os condicionais"
   ]
  },
  {
   "cell_type": "code",
   "execution_count": 12,
   "metadata": {
    "id": "64MWb2UDiWDV"
   },
   "outputs": [],
   "source": [
    "def noIntervalo1(n,a,b):\n",
    "  if n in range(a,b+1):\n",
    "    return True\n",
    "  else:\n",
    "    return False"
   ]
  },
  {
   "cell_type": "markdown",
   "metadata": {
    "id": "8EXkoowkitwx"
   },
   "source": [
    "Nestes casos devem remover o `if` e associar à variável a expressão da guarda."
   ]
  },
  {
   "cell_type": "markdown",
   "metadata": {
    "id": "hH6Beu6HjYmz"
   },
   "source": [
    "Outro exemplo deste erro, que junta ainda o uso prematuro de ciclos, no contexto desta avaliação. "
   ]
  },
  {
   "cell_type": "code",
   "execution_count": 13,
   "metadata": {
    "id": "5LIDhJ4tjU_e"
   },
   "outputs": [],
   "source": [
    "def noIntervalo2(n,a,b):\n",
    "  for i in range(a,b+1): \n",
    "    if n==i: \n",
    "      return True \n",
    "    if n==a:    # estes dois ifs são desnecessários\n",
    "      return True \n",
    "    if n==b: \n",
    "      return True\n",
    "  # ainda falta o return False se nada disto for satisfeito      "
   ]
  },
  {
   "cell_type": "markdown",
   "metadata": {
    "id": "xp_-_82Ljpd2"
   },
   "source": [
    "Devem focar-se no tema da avaliação contínua. Não resolvam os exercícios da forma que estão mais à vontade. Eu aceito as soluções mas é mesmo importante trabalharem toda a matéria. "
   ]
  },
  {
   "cell_type": "markdown",
   "metadata": {
    "id": "p4sqb8z1h1O9"
   },
   "source": [
    "A solução seguinte dá o resultado certo mas implica demasiados recursos, dado que preciso gerar a lista inteira para depois procurar nela."
   ]
  },
  {
   "cell_type": "code",
   "execution_count": 14,
   "metadata": {
    "id": "EizZGL-yh-Bx"
   },
   "outputs": [],
   "source": [
    "def noIntervalo3(n,a,b):\n",
    "  return n in range(a,b+1)"
   ]
  },
  {
   "cell_type": "markdown",
   "metadata": {
    "id": "RfJ9gKISiCaB"
   },
   "source": [
    "Se o intervalo [a,b] tiver muitos elementos podemos perder demasiado tempo na pesquisa."
   ]
  },
  {
   "cell_type": "markdown",
   "metadata": {
    "id": "bH0OTKoBhwGN"
   },
   "source": [
    "Para saber se um inteiro n encontra-se no intervalo [a,b] a forma mais direta (e melhor) é simplesmente"
   ]
  },
  {
   "cell_type": "code",
   "execution_count": 15,
   "metadata": {
    "id": "3QKmClLZhrMS"
   },
   "outputs": [],
   "source": [
    "def noIntervalo4(n,a,b):\n",
    "  return a <= n and n <= b"
   ]
  },
  {
   "cell_type": "markdown",
   "metadata": {
    "id": "M18V84bpiJ27"
   },
   "source": [
    "\n",
    "\n",
    "---\n",
    "\n"
   ]
  },
  {
   "cell_type": "markdown",
   "metadata": {
    "id": "AUXzqlfgiK3f"
   },
   "source": [
    "\n",
    "## Exercício 2\n"
   ]
  },
  {
   "cell_type": "markdown",
   "metadata": {
    "id": "Nd5vb0Ink-O6"
   },
   "source": [
    "Neste exercício voltam a ocorrer os `if ...: return True else: return False`, tornando o código muito mais difícil de ler e manter.\n",
    "\n",
    "Um exemplo:"
   ]
  },
  {
   "cell_type": "code",
   "execution_count": 16,
   "metadata": {
    "id": "sJJVoKZFk95I"
   },
   "outputs": [],
   "source": [
    "def eRetangulo(a, b, c, d): \n",
    "  if a == b: \n",
    "    if c == d: \n",
    "      return True \n",
    "    else: \n",
    "      return False \n",
    "  elif a == c: \n",
    "    if b ==d: \n",
    "      return True \n",
    "    else: \n",
    "      return False \n",
    "  elif a == d: \n",
    "    if b ==c: \n",
    "      return True \n",
    "    else: \n",
    "      return False \n",
    "  else: \n",
    "    return False"
   ]
  },
  {
   "cell_type": "markdown",
   "metadata": {
    "id": "oKcmKG5zljwW"
   },
   "source": [
    "Comparem com uma versão que coloca de imediato os valores destas guardas no return:"
   ]
  },
  {
   "cell_type": "code",
   "execution_count": 17,
   "metadata": {
    "id": "JPQbhQA8k3vh"
   },
   "outputs": [],
   "source": [
    "def eRetangulo(a, b, c, d):\n",
    "  return (a==b and c==d) or (a==c and b==d) or (a==d and b==c)"
   ]
  },
  {
   "cell_type": "markdown",
   "metadata": {
    "id": "kLnmoLpjlxys"
   },
   "source": [
    "Preferiam procurar um bug na 1ª ou na 2ª versão? :-)"
   ]
  },
  {
   "cell_type": "markdown",
   "metadata": {
    "id": "GVch0FudlpXW"
   },
   "source": [
    "\n",
    "\n",
    "---\n",
    "\n"
   ]
  },
  {
   "cell_type": "markdown",
   "metadata": {
    "id": "HfBtyyjJmIQ7"
   },
   "source": [
    "## Exercício 3"
   ]
  },
  {
   "cell_type": "markdown",
   "metadata": {
    "id": "E9IcgE9rmV2U"
   },
   "source": [
    "Aqui houve várias soluções corretas que usaram o comando `for`. Quem o fez não se esqueça de criar uma solução com listas por compreensão, para treinarem o conceito."
   ]
  },
  {
   "cell_type": "markdown",
   "metadata": {
    "id": "SLTZPA-bmik8"
   },
   "source": [
    "No seguinte exemplo (correto) temos,"
   ]
  },
  {
   "cell_type": "code",
   "execution_count": 18,
   "metadata": {
    "id": "oSII0-fslqaQ"
   },
   "outputs": [],
   "source": [
    "def somaKPotencias1(k, xs): \n",
    "  return sum( [ k*(xs[x]**k) for x in range(len(xs)) ] )"
   ]
  },
  {
   "cell_type": "markdown",
   "metadata": {
    "id": "itd83h5smqWY"
   },
   "source": [
    "Não se esqueçam que o Python pode gerar os próprios valores, escusam de usar os índices:"
   ]
  },
  {
   "cell_type": "code",
   "execution_count": 19,
   "metadata": {
    "id": "SSRuG68Vmw4F"
   },
   "outputs": [],
   "source": [
    "def somaKPotencias2(k, xs):\n",
    "  return sum( [ k * x**k for x in xs ] )"
   ]
  },
  {
   "cell_type": "markdown",
   "metadata": {
    "id": "vhPHxFLAnkXB"
   },
   "source": [
    "Comparem com uma solução com o comando `while`"
   ]
  },
  {
   "cell_type": "code",
   "execution_count": 20,
   "metadata": {
    "id": "jBYlnOO-nevv"
   },
   "outputs": [],
   "source": [
    "def somaKPotencias3(k, xs): \n",
    "  n = 0 \n",
    "  resultado = 0 \n",
    "  while n != len(xs): \n",
    "    resultado = resultado + k * xs[n]**k\n",
    "    n = n + 1 \n",
    "  return resultado "
   ]
  },
  {
   "cell_type": "markdown",
   "metadata": {
    "id": "GBYz9yN4nyzX"
   },
   "source": [
    "Mais complicada, onde temos de criar e gerir duas variáveis auxiliares.\n",
    "\n",
    "Outra coisa: sendo este um problema para o qual sabemos exatamente quantas iterações têm de ser realizadas, a escolher um comando de iteração deveria ser, não o `while`, mas o `for`."
   ]
  },
  {
   "cell_type": "markdown",
   "metadata": {
    "id": "C_-bKRuHo4MI"
   },
   "source": [
    "\n",
    "\n",
    "---\n",
    "\n"
   ]
  },
  {
   "cell_type": "markdown",
   "metadata": {
    "id": "Gd8BwqQTo4v8"
   },
   "source": [
    "## Exercício 4"
   ]
  },
  {
   "cell_type": "markdown",
   "metadata": {
    "id": "LmTbeRUHo6lT"
   },
   "source": [
    "Houve o uso da biblioteca Python `string` para ir buscar as letras minúsculas. Tudo bem, mas não se esqueçam que podíamos ter despachado este problema simplesmente com,"
   ]
  },
  {
   "cell_type": "code",
   "execution_count": 21,
   "metadata": {
    "id": "ghGhQOxunsO0"
   },
   "outputs": [],
   "source": [
    "letras = 'abcdefghijklmnopqrstuvwxyz'"
   ]
  },
  {
   "cell_type": "markdown",
   "metadata": {
    "id": "WiI5cfVZpQ1b"
   },
   "source": [
    "Houve também o uso do tipo `set` que ainda vamos falar (é o tipo para conjuntos de valores). Suponho que tenha sido para tirar repetições. Mas neste caso não havia necessidade. \n",
    "\n",
    "O que era preciso era validar se cada elemento de `letras` estava na frase dada."
   ]
  },
  {
   "cell_type": "markdown",
   "metadata": {
    "id": "TpYRZTqjqGcY"
   },
   "source": [
    "Considerem a seguinte tentativa:"
   ]
  },
  {
   "cell_type": "code",
   "execution_count": 22,
   "metadata": {
    "colab": {
     "base_uri": "https://localhost:8080/"
    },
    "id": "2dEOGw4LqKkh",
    "outputId": "90bcaeab-4292-48c0-b307-c441be460cbe"
   },
   "outputs": [
    {
     "data": {
      "text/plain": [
       "True"
      ]
     },
     "execution_count": 22,
     "metadata": {},
     "output_type": "execute_result"
    }
   ],
   "source": [
    "frase = 'the quick brown fox jumps over the lazy dog'\n",
    "\n",
    "x = frase\n",
    "[x.count('a'),x.count('b'),x.count('c'),x.count('d'),x.count('e'),x.count('f'),x.count('g'),\n",
    " x.count('h'),x.count('i'),x.count('j'),x.count('k'),x.count('l'),x.count('m'),x.count('n'),\n",
    " x.count('o'),x.count('p'),x.count('q'),x.count('r'),x.count('s'),x.count('t'),x.count('u'),\n",
    " x.count('v'),x.count('x'),x.count('z'),x.count('w'),x.count('y')].count(0) == 0"
   ]
  },
  {
   "cell_type": "markdown",
   "metadata": {
    "id": "HRlPvgvvqR9W"
   },
   "source": [
    "Uma das intuições que vocês têm de interiorizar é que programar passa sempre por remover repetições de código. Esta solução deverá ativar os vossos alarmes. Tem de haver melhor forma de aproveitar o padrão à nossa frente (estamos a passar por todas as letras do alfabeto) e criar uma expressão que inclua esse padrão."
   ]
  },
  {
   "cell_type": "markdown",
   "metadata": {
    "id": "vQIFRngiqmbb"
   },
   "source": [
    "Podemos fazer isso com um gerador `for letra in letras`:"
   ]
  },
  {
   "cell_type": "code",
   "execution_count": 23,
   "metadata": {
    "colab": {
     "base_uri": "https://localhost:8080/"
    },
    "id": "oe3-QbrOpnpL",
    "outputId": "b1341a70-a472-4d0e-e83e-9ec8ab3923f0"
   },
   "outputs": [
    {
     "data": {
      "text/plain": [
       "[True,\n",
       " True,\n",
       " True,\n",
       " True,\n",
       " True,\n",
       " True,\n",
       " True,\n",
       " True,\n",
       " True,\n",
       " True,\n",
       " True,\n",
       " True,\n",
       " True,\n",
       " True,\n",
       " True,\n",
       " True,\n",
       " True,\n",
       " True,\n",
       " True,\n",
       " True,\n",
       " True,\n",
       " True,\n",
       " True,\n",
       " True,\n",
       " True,\n",
       " True]"
      ]
     },
     "execution_count": 23,
     "metadata": {},
     "output_type": "execute_result"
    }
   ],
   "source": [
    "resultados = [ letra in frase.lower() for letra in letras ]\n",
    "resultados"
   ]
  },
  {
   "cell_type": "markdown",
   "metadata": {
    "id": "-Ycn1khJp0LL"
   },
   "source": [
    "Só precisamos testar se todos estes resultados são `True`. Para tal temos a função `all`,"
   ]
  },
  {
   "cell_type": "code",
   "execution_count": 24,
   "metadata": {
    "colab": {
     "base_uri": "https://localhost:8080/"
    },
    "id": "NPsicpUKp7uD",
    "outputId": "101faa1e-d3a0-455b-c8b3-317549b541be"
   },
   "outputs": [
    {
     "data": {
      "text/plain": [
       "True"
      ]
     },
     "execution_count": 24,
     "metadata": {},
     "output_type": "execute_result"
    }
   ],
   "source": [
    "all(resultados)"
   ]
  },
  {
   "cell_type": "markdown",
   "metadata": {
    "id": "p6YTERkTp94t"
   },
   "source": [
    "\n",
    "\n",
    "---\n",
    "\n"
   ]
  },
  {
   "cell_type": "markdown",
   "metadata": {
    "id": "lqN-mFuMp-yD"
   },
   "source": [
    "## Exercício 5"
   ]
  },
  {
   "cell_type": "markdown",
   "metadata": {
    "id": "lWbjyyF7tDCl"
   },
   "source": [
    "Não tenho comentários relevantes sobre esta pergunta."
   ]
  }
 ],
 "metadata": {
  "colab": {
   "collapsed_sections": [],
   "name": "Comentários AC3.ipynb",
   "provenance": []
  },
  "kernelspec": {
   "display_name": "Python 3",
   "language": "python",
   "name": "python3"
  },
  "language_info": {
   "codemirror_mode": {
    "name": "ipython",
    "version": 3
   },
   "file_extension": ".py",
   "mimetype": "text/x-python",
   "name": "python",
   "nbconvert_exporter": "python",
   "pygments_lexer": "ipython3",
   "version": "3.7.7"
  }
 },
 "nbformat": 4,
 "nbformat_minor": 1
}
