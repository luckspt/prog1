{
 "cells": [
  {
   "cell_type": "markdown",
   "metadata": {
    "id": "rhihuseEH8yr"
   },
   "source": [
    "# Programação I (LTI)\n",
    "\n",
    "## Capítulo - Introdução ao Python\n",
    "\n",
    "2020/21 -- João Pedro Neto, DI/FCUL"
   ]
  },
  {
   "cell_type": "markdown",
   "metadata": {
    "id": "VoAmcTxvbgwt"
   },
   "source": [
    "O principal objetivo desta disciplina é ensinar-vos a programar. Iremos discutir muitos conceitos, realizar variados exercícios, discutir métodos comuns de resolução de problemas, tudo isto através da aprendizagem de como escrever numa linguagem de programação.\n",
    "\n",
    "Podemos começar já com o primeiro conceito: uma **linguagem de programação** é uma ferramenta para escrever *algoritmos*.\n",
    "\n",
    "Algoritmo é um termo mais conhecido, e mais antigo que os computadores. Um **algoritmo** é como uma receita onde se descreve, passo a passo e com detalhe, o que é preciso fazer para resolver um dado problema. \n",
    "\n",
    "Um algoritmo está sempre associado a um certo **problema**, e é em relação a esse problema em particular que dizemos se o dado algoritmo está certo ou errado. Por exemplo, se eu crio um algoritmo para resolver o problema de encontrar as raízes de um polinómio, ele de pouco vai servir para resolver o problema de ordenar números.\n",
    "\n",
    "Um **programador** é uma pessoa que sabe escrever algoritmos usando linguagens de programação. É alguém treinado a resolver problemas. E ao ato de escrever algoritmos nós chamamos **programar**. \n",
    "\n",
    "Não é fácil saber programar bem, como não é fácil saber escrever bem. Vão precisar de muita prática e disciplina de trabalho. Não há um atalho dourado que vos leve, rápido, ao fim do caminho. É preciso paciência, persistência e suor. As cadeiras de programação (Prog I, Prog II, etc.) existem precisamente para vos ajudar a percorrer o caminho, a ganhar este talento de saber programar."
   ]
  },
  {
   "cell_type": "markdown",
   "metadata": {
    "id": "1CjEkWjefmXG"
   },
   "source": [
    "\n",
    "\n",
    "---\n",
    "\n"
   ]
  },
  {
   "cell_type": "markdown",
   "metadata": {
    "id": "Sy1VuGaAc2Aw"
   },
   "source": [
    "Existem muitas categorias diferentes de problemas no mundo da Informática. Não é de estranhar que existam muitas linguagens de programação. Um pouco como as ferramentas de construção. Se tudo fossem pregos, só haveria martelos.\n",
    "\n",
    "Há linguagens de programação especializadas para problemas mais específicos. E há linguagens  de programação que podem ser usadas para muitos problemas diferentes; estas são chamadas **linguagens generalistas**. \n",
    "\n",
    "Para além disso, há linguagens  de programação que focam em estratégias diferentes de representar e resolver problemas. Estas estratégias são chamadas de [**paradigmas de programação**](https://en.wikipedia.org/wiki/Programming_paradigm).\n",
    "\n"
   ]
  },
  {
   "cell_type": "markdown",
   "metadata": {
    "id": "CFZ7gR5FfoFh"
   },
   "source": [
    "\n",
    "\n",
    "---\n",
    "\n"
   ]
  },
  {
   "cell_type": "markdown",
   "metadata": {
    "id": "76dKBXQ8dk2K"
   },
   "source": [
    "Em Prog. I vamos aprender a programar usando uma linguagem de programação chamada **Python**. Esta é uma linguagem generalista e multi-paradigma. Significa que é uma das linguagens gerais, que servem para muitos problemas, e que admite a possibilidade de usar muitas estratégias diferentes para representar e resolver problemas."
   ]
  },
  {
   "cell_type": "markdown",
   "metadata": {
    "id": "Yk7HKZV2fyE7"
   },
   "source": [
    "Quando programamos em Python (ou noutra linguagem) escrevemos os nossos algoritmos obedecendo às *regras da linguagem*. No caso do Python vamos ter de aprender as suas regras.\n",
    "\n",
    "Para além disso, vamos também aprender sobre os seus *recursos*. Sobre as funcionalidades que existem no Python e nos ajudam a escrever algoritmos. O desempenho e a produtividade de uma linguagem de programação são muito importantes para o desempenho e a produtividade de um programador.\n",
    "\n",
    "Uma das primeiras regras é que a escrita dos algoritmos passa por agruparmos sequências de **comandos** (ordens, instruções) umas a seguir às outras. A esta sequência de comandos chamamos um **programa** (em Python também se chamam *scripts*).\n",
    "\n",
    "Quando terminamos de escrever um programa (já lá iremos), o Python será capaz de o **executar**. A execução de um programa corresponde à execução dos seus comandos individuais, desde o primeiro até ao último comando. Cada comando diferente, como seria de esperar, irá corresponder a uma ação diferente.\n",
    "\n",
    "Ao conjunto de execuções de todos estes comandos chamamos de **computação**. O resultado final desta computação será, se tudo correr bem, a resposta do problema inicial.\n"
   ]
  },
  {
   "cell_type": "markdown",
   "metadata": {
    "id": "QMlmAUvulSx-"
   },
   "source": [
    "---"
   ]
  },
  {
   "cell_type": "markdown",
   "metadata": {
    "id": "w1iKPiTAlUpO"
   },
   "source": [
    "A nossa metodologia para a resolução de problemas será a seguinte:\n",
    "\n",
    "1.   Ler o enunciado de um problema e interpretá-lo\n",
    "1.   Pensar num algoritmo que resolve o problema\n",
    "1.   Escrever na linguagem Python um programa que descreve o algoritmo\n",
    "1.   Dizer ao Python para executar o programa \n",
    "1.   A resposta da execução do programa será a resposta do problema\n",
    "1.   Mas se a resposta estiver errada, voltar ao ponto 2.\n",
    "\n",
    "*se repararem, esta lista é, ela própria, um esboço de algoritmo. Só que não há linguagem de programação para a descrever. E ainda bem, senão estávamos todos no desemprego :-)*\n"
   ]
  },
  {
   "cell_type": "markdown",
   "metadata": {
    "id": "ojmqDph7nuvP"
   },
   "source": [
    "\n",
    "\n",
    "---\n",
    "\n"
   ]
  },
  {
   "cell_type": "markdown",
   "metadata": {
    "id": "Fz9rBE63n4G5"
   },
   "source": [
    "Vamos discutir um pouco sobre o último ponto da lista acima. \n",
    "\n",
    "Se a computação correu de forma inesperada e obtivémos um resultado errado, isto significa uma de duas coisas, (a) ou pensámos num algoritmo que tem falhas e, na verdade, não resolve o problema, ou (b) o algoritmo está certo mas introduzimos erros ao escrever o programa que o descreve.\n",
    "\n",
    "Em qualquer dos casos vai ser necessário modificar a versão atual do programa. Para tal temos de descobrir onde se encontra o erro (ou erros!) que produziu, durante a computação, a resposta errada.\n",
    "\n",
    "A esta atividade chamamos de **depuração** (do inglês, *debugging*). Aos erros costumam-se chamar *bugs*."
   ]
  },
  {
   "cell_type": "markdown",
   "metadata": {
    "id": "49cQ7kylpVCs"
   },
   "source": [
    "Da perspetiva da depuração existem três categorias de erros que podem ocorrer:\n",
    "\n",
    "1.   Erros sintáticos\n",
    "1.   Erros de execução\n",
    "1.   Erros semânticos\n",
    "\n",
    "**Erros sintáticos** ocorrem quando não respeitamos as regras de escrita do Python. Sendo uma linguagem, o Python tem sintaxe e gramática as quais temos de respeitar. Estes são os erros mais fáceis de corrigir.\n",
    "\n",
    "**Erros de execução** ocorrem durante a execução do programa. Eles significam que aconteceu um evento tão grave que o Python achou por bem cancelar a computação.\n",
    "\n",
    "**Erros semânticos** ocorrem quando o programa que escrevemos não é o apropriado para resolver o problema inicial. O programa está a encontrar uma solução para um outro problema que não o problema original. \n",
    "\n",
    "Iremos ver muitos exemplos destes erros.\n",
    "\n",
    "*A depuração é uma atividade empírica*. Precisamos formular hipóteses sobre o que correu mal a partir dos dados que temos. Precisamos efetuar experiências com o nosso programa para obter novos resultados. Esses resultados irão dar-nos confiança nas hipóteses ou irão refutá-las. Devemos continuar neste processo até encontrar o erro. Não vos faltará prática neste departamento..."
   ]
  },
  {
   "cell_type": "markdown",
   "metadata": {
    "id": "Vs4IzEQFqkp2"
   },
   "source": [
    "\n",
    "\n",
    "---\n",
    "\n"
   ]
  },
  {
   "cell_type": "markdown",
   "metadata": {
    "id": "qviEB4p_304I"
   },
   "source": [
    "> _Diz o informático à mulher: \"vou comprar um frango para o almoço\".\n",
    "A mulher responde: \"se houver ovos compra uma dúzia\". Passado um tempo, o informático chega a casa com 12 frangos..._ \n",
    "\n",
    "Uma linguagem de programação tem várias diferenças em relação às linguagens naturais como o Português. Entre estas diferenças encontramos nas linguagens naturais a *ambiguidade* (que garante expressividade e é lidada pelos seres humanos com informação contextual), a *redundância* (que reduz as falhas de comunicação entre falantes), e as *figuras de estilo* (que dão uma riqueza ímpar ao discurso e à escrita). \n",
    "\n",
    "Estes mecanismos são eliminados nas linguagens de programação. Existe uma definição formal para cada comando, que lhes dá uma semântica única (semântica = significado) sem possibilidade de dupla interpretação. Isto faz com que sejam *literalmente* literais."
   ]
  },
  {
   "cell_type": "markdown",
   "metadata": {
    "id": "QVvROOyp-k2N"
   },
   "source": [
    "\n",
    "\n",
    "---\n",
    "\n"
   ]
  },
  {
   "cell_type": "markdown",
   "metadata": {
    "id": "n0AW1-0Z-l2F"
   },
   "source": [
    "> *computers are to computer science what telescopes are to astronomy* -- Edsger Dijkstra \n",
    "\n",
    "O que significa esta citação? Os computadores são ferramentas essenciais para a ciência da computação mas não são o seu objeto de estudo. O que nós pretendemos com a programação -- um ramo da ciência da computação -- é aprender a pensar algoritmicamente, sermos capazes de descrever algoritmos com programas eficientes, corrigi-los e adaptá-los quando for necessário. O computador nesta perspetiva é uma ferramenta, como a matemática ou a estatística, todas elas ferramentas importantes na análise de problemas e na construção de programas complexos."
   ]
  },
  {
   "cell_type": "markdown",
   "metadata": {
    "id": "CK45Lz_jwbGT"
   },
   "source": [
    "## Começando com o Python"
   ]
  },
  {
   "cell_type": "markdown",
   "metadata": {
    "id": "ir8tP680s_9C"
   },
   "source": [
    "Bem, vamos lá ver alguns exemplos de Python!\n",
    "\n",
    "Um dos comandos do Python chama-se `print`. Se lhe dermos uma frase a seguir, ele mostra essa frase no ecrã:"
   ]
  },
  {
   "cell_type": "code",
   "execution_count": 1,
   "metadata": {
    "colab": {
     "base_uri": "https://localhost:8080/",
     "height": 35
    },
    "id": "Uqmz9balXkor",
    "outputId": "7e847dd8-4561-4c31-c871-06ac70adca8f"
   },
   "outputs": [
    {
     "name": "stdout",
     "output_type": "stream",
     "text": [
      "Olá Mundo\n"
     ]
    }
   ],
   "source": [
    "print(\"Olá Mundo\")"
   ]
  },
  {
   "cell_type": "markdown",
   "metadata": {
    "id": "2jL320eitXb4"
   },
   "source": [
    "Lá está, não é grande coisa.. mas não se esqueçam que é o primeiro exemplo!\n",
    "\n",
    "Notas sobre este comando:\n",
    "\n",
    "+ As frases em Python têm de ser rodeadas por aspas. Esta é uma das regras do Python. Costumam-se chamar a estas frases, *strings*.\n",
    "\n",
    "+ O `print` é um género de comando a que se chama **função**. Vocês conhecem funções das aulas de Matemática. Aqui são um pouco diferentes, mas a ideia é a mesma. As funções no Python recebem, entre parênteses, valores do seu domínio. Se houver mais que um valor a receber, eles têm de ser separados por vírgulas. Costuma-se chamar de **argumentos** a estes valores enviados para as funções. \n",
    "\n",
    "+ Quando a função termina ela irá devolver um valor e/ou efetuar uma ação. No caso do `print` a ação é imprimir os valores dos argumentos no ecrã.\n"
   ]
  },
  {
   "cell_type": "code",
   "execution_count": null,
   "metadata": {
    "colab": {
     "base_uri": "https://localhost:8080/",
     "height": 35
    },
    "id": "FWRZVPc8uFO_",
    "outputId": "3783c0b6-5d4e-4976-dcbe-17a5152a4556"
   },
   "outputs": [
    {
     "name": "stdout",
     "output_type": "stream",
     "text": [
      "Olá Mundo\n"
     ]
    }
   ],
   "source": [
    "print(\"Olá\", \"Mundo\")"
   ]
  },
  {
   "cell_type": "markdown",
   "metadata": {
    "id": "kkinEQ4VuWvw"
   },
   "source": [
    "Tudo isto faz parte das tais regras de sintaxe e gramática do Python. Não há volta a dar, temos mesmo que as aprender...\n",
    "\n",
    "Aqui já podemos ver um exemplo de erro sintático: o que acontece se nos esquecermos de fechar os parênteses?"
   ]
  },
  {
   "cell_type": "code",
   "execution_count": null,
   "metadata": {
    "colab": {
     "base_uri": "https://localhost:8080/",
     "height": 135
    },
    "id": "Myky6BAxvEd_",
    "outputId": "a9ad830b-ff1e-47b3-bbd3-9bf46b433681"
   },
   "outputs": [
    {
     "ename": "SyntaxError",
     "evalue": "ignored",
     "output_type": "error",
     "traceback": [
      "\u001b[0;36m  File \u001b[0;32m\"<ipython-input-4-10036ebda0f7>\"\u001b[0;36m, line \u001b[0;32m1\u001b[0m\n\u001b[0;31m    print(\"Olá\", \"Mundo\"\u001b[0m\n\u001b[0m                        ^\u001b[0m\n\u001b[0;31mSyntaxError\u001b[0m\u001b[0;31m:\u001b[0m unexpected EOF while parsing\n"
     ]
    }
   ],
   "source": [
    "print(\"Olá\", \"Mundo\""
   ]
  },
  {
   "cell_type": "markdown",
   "metadata": {
    "id": "pQTctIDYu2mc"
   },
   "source": [
    "O Python dá-nos logo na cabeça! É por isso que estes são os erros mais fáceis de lidar. Não vamos longe sem os corrigir.\n",
    "\n",
    "Um comando útil quando se está a programar é o `help` que nos dá informação detalhada sobre outros comandos."
   ]
  },
  {
   "cell_type": "code",
   "execution_count": null,
   "metadata": {
    "colab": {
     "base_uri": "https://localhost:8080/",
     "height": 237
    },
    "id": "VG2ZK7UNvre8",
    "outputId": "d3ce6837-6833-4610-d782-63b92fa18a94"
   },
   "outputs": [
    {
     "name": "stdout",
     "output_type": "stream",
     "text": [
      "Help on built-in function print in module builtins:\n",
      "\n",
      "print(...)\n",
      "    print(value, ..., sep=' ', end='\\n', file=sys.stdout, flush=False)\n",
      "    \n",
      "    Prints the values to a stream, or to sys.stdout by default.\n",
      "    Optional keyword arguments:\n",
      "    file:  a file-like object (stream); defaults to the current sys.stdout.\n",
      "    sep:   string inserted between values, default a space.\n",
      "    end:   string appended after the last value, default a newline.\n",
      "    flush: whether to forcibly flush the stream.\n",
      "\n"
     ]
    }
   ],
   "source": [
    "help(print)"
   ]
  },
  {
   "cell_type": "markdown",
   "metadata": {
    "id": "zUPbfPshv57B"
   },
   "source": [
    "Desta descrição podemos ver que o `print` tem uma opção de carater de separação. Vamos experimentar:"
   ]
  },
  {
   "cell_type": "code",
   "execution_count": null,
   "metadata": {
    "colab": {
     "base_uri": "https://localhost:8080/",
     "height": 35
    },
    "id": "cVyB9NnBwBb0",
    "outputId": "1985354a-9ae3-46a7-dd2a-2abec51a2fd3"
   },
   "outputs": [
    {
     "name": "stdout",
     "output_type": "stream",
     "text": [
      "Olá, Mundo\n"
     ]
    }
   ],
   "source": [
    "print(\"Olá\", \"Mundo\", sep=\", \")  # vai separar cada frase por vírgula e espaço"
   ]
  },
  {
   "cell_type": "markdown",
   "metadata": {
    "id": "mSVIICTaw3X1"
   },
   "source": [
    "nota: ao escreverem o carater `#` tudo a seguir é considerado como comentário, não sendo executado.\n",
    "\n",
    "Se o puserem dentro de uma *string*, o Python é esperto:"
   ]
  },
  {
   "cell_type": "code",
   "execution_count": null,
   "metadata": {
    "colab": {
     "base_uri": "https://localhost:8080/",
     "height": 35
    },
    "id": "M3DSGvCd74Us",
    "outputId": "99315223-c588-4bf0-805f-6c0c877a73b4"
   },
   "outputs": [
    {
     "name": "stdout",
     "output_type": "stream",
     "text": [
      "Isto não é um # comentário\n"
     ]
    }
   ],
   "source": [
    "print(\"Isto não é um # comentário\")"
   ]
  },
  {
   "cell_type": "markdown",
   "metadata": {
    "id": "C0qsjKTv8YFX"
   },
   "source": [
    "Mas precisarem de usar uma aspa dentro da *string* já fia mais fino:"
   ]
  },
  {
   "cell_type": "code",
   "execution_count": null,
   "metadata": {
    "colab": {
     "base_uri": "https://localhost:8080/",
     "height": 135
    },
    "id": "ZvBrn2so8cBJ",
    "outputId": "bd71f10e-9f72-4cb2-84c6-ce301d7e1c81"
   },
   "outputs": [
    {
     "ename": "SyntaxError",
     "evalue": "ignored",
     "output_type": "error",
     "traceback": [
      "\u001b[0;36m  File \u001b[0;32m\"<ipython-input-9-011057fe5288>\"\u001b[0;36m, line \u001b[0;32m1\u001b[0m\n\u001b[0;31m    print(\"Preciso de usar uma \"\")\u001b[0m\n\u001b[0m                                  ^\u001b[0m\n\u001b[0;31mSyntaxError\u001b[0m\u001b[0;31m:\u001b[0m EOL while scanning string literal\n"
     ]
    }
   ],
   "source": [
    "print(\"Preciso de usar uma \"\")"
   ]
  },
  {
   "cell_type": "markdown",
   "metadata": {
    "id": "1xqiUqAJ8ldX"
   },
   "source": [
    "Nestes casos podem alternar a definição de *strings* entre as aspas `\"` e as plicas `'`:"
   ]
  },
  {
   "cell_type": "code",
   "execution_count": null,
   "metadata": {
    "colab": {
     "base_uri": "https://localhost:8080/",
     "height": 35
    },
    "id": "iZZ0RZ6b8sJ9",
    "outputId": "bf288cf8-f56a-4085-d71d-957cf1a87083"
   },
   "outputs": [
    {
     "name": "stdout",
     "output_type": "stream",
     "text": [
      "Preciso de usar uma \" e também uma '\n"
     ]
    }
   ],
   "source": [
    "print('Preciso de usar uma \"', \"e também uma '\")"
   ]
  },
  {
   "cell_type": "markdown",
   "metadata": {
    "id": "1jcn7rjCwg6b"
   },
   "source": [
    "O Python também serve como calculadora:"
   ]
  },
  {
   "cell_type": "code",
   "execution_count": null,
   "metadata": {
    "id": "jWwth4_01bwx"
   },
   "outputs": [],
   "source": [
    "1+1"
   ]
  },
  {
   "cell_type": "code",
   "execution_count": null,
   "metadata": {
    "id": "Wua1DOn5wXGv"
   },
   "outputs": [],
   "source": [
    "3*(2+1)"
   ]
  },
  {
   "cell_type": "code",
   "execution_count": null,
   "metadata": {
    "id": "t8BTgTk2wyFN"
   },
   "outputs": [],
   "source": [
    "(3*(2+1))**2   # o operador ** é a potência"
   ]
  },
  {
   "cell_type": "markdown",
   "metadata": {
    "id": "HWR0h0hM74_I"
   },
   "source": [
    "<font size=\"+4\" color=\"blue;green\"><b>?</b></font> Experimentem vocês a calculadora: quantos segundos existem num dia? É só escrever a expressão na caixa seguinte e clicar no símbolo à esquerda."
   ]
  },
  {
   "cell_type": "code",
   "execution_count": null,
   "metadata": {
    "id": "BvYcb5NbxFhh"
   },
   "outputs": [],
   "source": [
    "   # ponham aqui a vossa solução"
   ]
  },
  {
   "cell_type": "markdown",
   "metadata": {
    "id": "2Kg96quDwvXs"
   },
   "source": [
    "Reparem que a função `print` ou um operador como o `+` recebem informação e produzem um resultado. Costuma-se chamar à informação recebida pelas funções (ou mesmo pelo programa) de **input**, e à informação ou ação devolvida de **output**.\n"
   ]
  },
  {
   "cell_type": "markdown",
   "metadata": {
    "id": "UUFvLnNe1NUC"
   },
   "source": [
    "## Tipos e literais"
   ]
  },
  {
   "cell_type": "markdown",
   "metadata": {
    "id": "DqPQWiOcBVFF"
   },
   "source": [
    "Pelos exemplos acima podemos notar que existem no Python pelo menos dois tipos de informação: *strings* e números.\n",
    "\n",
    "Na programação usa-se precisamente o termo **tipo** (em inglês, *type*) para separar diferentes tipos (lá está) de informação.\n",
    "\n",
    "Estes tipos que identificámos chamam-se `int` e `str`, abreviaturas de *integer* e *string*.\n",
    "\n",
    "Se tivermos dúvidas podemos usar a função `type` para nos esclarecer:"
   ]
  },
  {
   "cell_type": "code",
   "execution_count": null,
   "metadata": {
    "colab": {
     "base_uri": "https://localhost:8080/",
     "height": 35
    },
    "id": "38hfEpCWCcIu",
    "outputId": "36645370-a054-426c-b9f5-2099a3c5e634"
   },
   "outputs": [
    {
     "data": {
      "text/plain": [
       "int"
      ]
     },
     "execution_count": 3,
     "metadata": {
      "tags": []
     },
     "output_type": "execute_result"
    }
   ],
   "source": [
    "type(1)"
   ]
  },
  {
   "cell_type": "code",
   "execution_count": null,
   "metadata": {
    "colab": {
     "base_uri": "https://localhost:8080/",
     "height": 35
    },
    "id": "upXNq9XrCf19",
    "outputId": "3fbbc45b-c5d4-4959-88c6-6df47ea26850"
   },
   "outputs": [
    {
     "data": {
      "text/plain": [
       "str"
      ]
     },
     "execution_count": 4,
     "metadata": {
      "tags": []
     },
     "output_type": "execute_result"
    }
   ],
   "source": [
    "type(\"Olá Mundo\")"
   ]
  },
  {
   "cell_type": "markdown",
   "metadata": {
    "id": "jkzm2GFXDSh1"
   },
   "source": [
    "Uma experiência: vamos imprimir o número 500.000, ou seja, meio milhão:"
   ]
  },
  {
   "cell_type": "code",
   "execution_count": null,
   "metadata": {
    "colab": {
     "base_uri": "https://localhost:8080/",
     "height": 35
    },
    "id": "z2rI_kbXDdeF",
    "outputId": "977e1c3a-1e66-473f-b209-8db74be5e795"
   },
   "outputs": [
    {
     "name": "stdout",
     "output_type": "stream",
     "text": [
      "500.0\n"
     ]
    }
   ],
   "source": [
    "print(500.000)"
   ]
  },
  {
   "cell_type": "markdown",
   "metadata": {
    "id": "mbxdoq6XDj55"
   },
   "source": [
    "Ahh... o que aconteceu? Perderam-se dois zeros! Este Python não parece grande coisa, se perde zeros assim sem mais nem menos...\n",
    "\n",
    "Mas não se preocupem, a reputação do Python não sai manchada: o que temos aqui é um primeiro exemplo de *erro semântico*."
   ]
  },
  {
   "cell_type": "markdown",
   "metadata": {
    "id": "Oi52oSCuC5Xr"
   },
   "source": [
    "Vamos conhecer um terceiro tipo do Python:"
   ]
  },
  {
   "cell_type": "code",
   "execution_count": null,
   "metadata": {
    "colab": {
     "base_uri": "https://localhost:8080/",
     "height": 35
    },
    "id": "NvLpO7iMC77Y",
    "outputId": "56a17eac-363c-40ba-e988-87fc2402d155"
   },
   "outputs": [
    {
     "data": {
      "text/plain": [
       "float"
      ]
     },
     "execution_count": 42,
     "metadata": {
      "tags": []
     },
     "output_type": "execute_result"
    }
   ],
   "source": [
    "type(500.000)"
   ]
  },
  {
   "cell_type": "markdown",
   "metadata": {
    "id": "YZkx5oYUC_tf"
   },
   "source": [
    "A informação de tipo `float` corresponde aos números com parte decimal. E o ponto é usado para separar a parte inteira da decimal, ao contrário do que estamos habituados em Portugal.\n",
    "\n",
    "Ou seja, no caso acima, o que nós pedimos para imprimir foi o número 500,000 ou seja, 500,0 já que os zeros mais à direita da vírgula (ponto?) não valem nada.\n",
    "\n",
    "Porquê um erro semântico? *Porque a nossa interpretação prévia não correspondia à interpretação do Python*. Um erro semântico não é um erro de acordo com a sintaxe do Python, nem tem de produzir um erro de execução. É um equívoco inesperado a resolver pelo programador.\n",
    "\n",
    "E reparem na natureza subjetiva dos erros semânticos. A partir do momento em que está esclarecida a questão, o significado de `500.000` e o efeito do `print` deixam de ser surpreendentes."
   ]
  },
  {
   "cell_type": "markdown",
   "metadata": {
    "id": "i-xollI7FYqH"
   },
   "source": [
    "O Python tem sintaxes próprias para valores destes tipos. Estas sintaxes próprias são importantes para o Python saber qual o tipo que se está a usar:\n",
    "\n",
    "+ o valor `1` representa o inteiro um, \n",
    "\n",
    "+ o valor `1/2` representa o float metade\n",
    "\n",
    "+ o valor `\"metade\"` representa a frase composta pela palavra \"metade\"\n",
    "\n",
    "Estas representações costumam ser chamadas de **literais**, onde cada literal representa um valor distinto do respetivo tipo.\n",
    "\n",
    "Os diferentes valores do mesmo tipo podem relacionar-se através de operadores. Vejamos uns exemplos:"
   ]
  },
  {
   "cell_type": "code",
   "execution_count": null,
   "metadata": {
    "colab": {
     "base_uri": "https://localhost:8080/",
     "height": 274
    },
    "id": "aknVLliTHHjy",
    "outputId": "1a9df985-2ab3-41b6-9096-5061838e0f62"
   },
   "outputs": [
    {
     "name": "stdout",
     "output_type": "stream",
     "text": [
      "420\n",
      "420.0\n",
      "Olá Mundo\n",
      "---------\n",
      "6\n",
      "6.0\n",
      "Ping Ping Ping \n",
      "---------\n",
      "2\n",
      "1\n",
      "2.5\n",
      "---------\n",
      "True\n",
      "True\n"
     ]
    }
   ],
   "source": [
    "print(120 + 300)\n",
    "print(120.0 + 300.0)\n",
    "print(\"Olá \" + \"Mundo\")\n",
    "print('---------')\n",
    "print(3 * 2)\n",
    "print(3.0 * 2.0)\n",
    "print(3 * \"Ping \")\n",
    "print('---------')\n",
    "print(5 // 2)\n",
    "print(5 % 2)\n",
    "print(5.0 / 2.0)\n",
    "print('---------')\n",
    "print(120 >= 100)     # >= é o símbolo para maior ou igual\n",
    "print('a' in 'banana')"
   ]
  },
  {
   "cell_type": "markdown",
   "metadata": {
    "id": "OV5RcRjBHzuC"
   },
   "source": [
    "Alguns comentários:\n",
    "\n",
    "+ Podemos compor vários valores com várias operações, para realizar contas arbitrariamente complexas. Estas combinações de valores e operações, que são avaliadas para dar um resultado, chamam-se **expressões**.\n",
    "\n",
    "+ Como repararam a operação `+` pode ser usada com tipos diferentes.  Apesar do mesmo nome, correspondem a funções distintas, executando comandos distintos. No caso das *strings*, o `+` efetua uma concatenação (isto é, junta as duas frases numa só).\n",
    "\n",
    "+ O mesmo ocorre com a operação `*`. Serve de multiplicação para os tipos `int` e `float`, mas para *strings* concatena uma mesma frase $n$ vezes.\n",
    "\n",
    "+ O caso da divisão é problemático para valores do tipo `int`. A expressão `5/2` que divide dois inteiros resulta em `2.5`, mas este resultado não é inteiro... O Python distingue três (!) operadores para a divisão: a divisão habitual que pode resultar em números decimais usa o operador `/`, o quociente e o resto da divisão inteira usam respetivamente os operadores `//` e `%`.\n",
    "\n",
    "+ Operações como `+` e `/` são funções como o `print` e `type`. Só que por motivos históricos estamos habituados a escrever operações no meio dos argumentos (chama-se *notação infixa*) e os nomes das restantes funções antes dos argumentos (*notação prefixa*). O Python satisfaz-nos este mau hábito notacional.\n",
    "\n",
    "+ O operador `in` verifica se a primeira *string* está contida na segunda.\n",
    "\n",
    "+ Os dois últimos exemplos produziram um resultado ainda não visto. De que tipo é o literal `True`?"
   ]
  },
  {
   "cell_type": "code",
   "execution_count": null,
   "metadata": {
    "colab": {
     "base_uri": "https://localhost:8080/",
     "height": 35
    },
    "id": "X6rFW6ArIZc9",
    "outputId": "b93ecd77-ab4b-4c47-d226-1d9970506889"
   },
   "outputs": [
    {
     "data": {
      "text/plain": [
       "bool"
      ]
     },
     "execution_count": 3,
     "metadata": {
      "tags": []
     },
     "output_type": "execute_result"
    }
   ],
   "source": [
    "type(True)"
   ]
  },
  {
   "cell_type": "markdown",
   "metadata": {
    "id": "5tUeYZdzIb4Y"
   },
   "source": [
    "Eis o nosso quarto tipo Python. O tipo `bool` representa valores lógicos e tem apenas dois valores possíveis: os habituais 'verdadeiro' e 'falso' que conhecemos da Lógica. Os literais que os identificam são `True` e `False`.\n",
    "\n",
    "Alguns operadores lógicos:"
   ]
  },
  {
   "cell_type": "code",
   "execution_count": 6,
   "metadata": {
    "colab": {
     "base_uri": "https://localhost:8080/",
     "height": 90
    },
    "id": "k49S8g4kP_ya",
    "outputId": "d17ac572-925b-411a-b43f-11bf4665951f"
   },
   "outputs": [
    {
     "name": "stdout",
     "output_type": "stream",
     "text": [
      "False\n",
      "True\n",
      "True\n",
      "ternary\n"
     ]
    }
   ],
   "source": [
    "print(10 == 12)\n",
    "print(10 != 12)             # != é o símbolo para diferente\n",
    "print(10 < 20 and 20 < 30)\n",
    "print(\"ternary\" if True else \"Olá\")"
   ]
  },
  {
   "cell_type": "markdown",
   "metadata": {
    "id": "fYdtM-OJLWUu"
   },
   "source": [
    "O Python permite que tentem converter valores de um tipo noutro tipo:"
   ]
  },
  {
   "cell_type": "code",
   "execution_count": null,
   "metadata": {
    "colab": {
     "base_uri": "https://localhost:8080/",
     "height": 219
    },
    "id": "_BzpazHCLb-M",
    "outputId": "8c8c6f7e-b181-4f03-8593-c9c19c930c34"
   },
   "outputs": [
    {
     "name": "stdout",
     "output_type": "stream",
     "text": [
      "1\n",
      "2.0\n",
      "---------\n",
      "False\n",
      "True\n",
      "1\n",
      "---------\n",
      "1\n",
      "-1\n",
      "---------\n",
      "1.52\n"
     ]
    }
   ],
   "source": [
    "print(int(1.0))\n",
    "print(float(2))\n",
    "print('---------')\n",
    "print(bool(0))     # zero é considerado Falso, caso contrário é Verdadeiro\n",
    "print(bool(-1.5))\n",
    "print(int(True))   \n",
    "print('---------')\n",
    "print(int(1.4))    # converter de float para int resulta em perda de precisão\n",
    "print(int(-1.6))\n",
    "print('---------')\n",
    "print(round(1.516, 2))  # função que arrendonda a n casas decimais"
   ]
  },
  {
   "cell_type": "markdown",
   "metadata": {
    "id": "WzGjHjBCSBAE"
   },
   "source": [
    "As operações e as funções têm sempre um domínio de aplicação. Se não respeitarmos esses domínios, *stranger things* podem acontecer:"
   ]
  },
  {
   "cell_type": "code",
   "execution_count": null,
   "metadata": {
    "colab": {
     "base_uri": "https://localhost:8080/",
     "height": 172
    },
    "id": "HPxAMH45SLev",
    "outputId": "5351a392-cd73-47a3-e67b-0469fde8dfe0"
   },
   "outputs": [
    {
     "ename": "ZeroDivisionError",
     "evalue": "ignored",
     "output_type": "error",
     "traceback": [
      "\u001b[0;31m---------------------------------------------------------------------------\u001b[0m",
      "\u001b[0;31mZeroDivisionError\u001b[0m                         Traceback (most recent call last)",
      "\u001b[0;32m<ipython-input-35-2fc232d1511a>\u001b[0m in \u001b[0;36m<module>\u001b[0;34m()\u001b[0m\n\u001b[0;32m----> 1\u001b[0;31m \u001b[0mprint\u001b[0m\u001b[0;34m(\u001b[0m\u001b[0;36m1\u001b[0m\u001b[0;34m/\u001b[0m\u001b[0;36m0\u001b[0m\u001b[0;34m)\u001b[0m\u001b[0;34m\u001b[0m\u001b[0;34m\u001b[0m\u001b[0m\n\u001b[0m",
      "\u001b[0;31mZeroDivisionError\u001b[0m: division by zero"
     ]
    }
   ],
   "source": [
    "print(1/0)"
   ]
  },
  {
   "cell_type": "markdown",
   "metadata": {
    "id": "1JPAign8SSjM"
   },
   "source": [
    "Aqui temos o nosso primeiro exemplo de *erro de execução*. Apesar de ser sintaticamente correto escrever `1/0`, o fato é que a divisão não admite zeros no denominador. Quando o Python tenta executar esta operação, resulta na paragem da computação. O que é produzido, em vez do resultado esperado, é uma mensagem de erro. Falaremos mais sobre estes erros no futuro.\n",
    "\n",
    "Vejamos mais um exemplo de erro de execução. O Python tenta ser flexível se derem a um operador valores de tipos diferentes. Mas há certas combinações que o Python não consegue calcular:"
   ]
  },
  {
   "cell_type": "code",
   "execution_count": null,
   "metadata": {
    "colab": {
     "base_uri": "https://localhost:8080/",
     "height": 246
    },
    "id": "GSHPoTtmT2qr",
    "outputId": "5a8a27e7-9fc3-423e-99fa-1f5831c87093"
   },
   "outputs": [
    {
     "name": "stdout",
     "output_type": "stream",
     "text": [
      "3.0\n",
      "2\n"
     ]
    },
    {
     "ename": "TypeError",
     "evalue": "ignored",
     "output_type": "error",
     "traceback": [
      "\u001b[0;31m---------------------------------------------------------------------------\u001b[0m",
      "\u001b[0;31mTypeError\u001b[0m                                 Traceback (most recent call last)",
      "\u001b[0;32m<ipython-input-36-5b011ec7924b>\u001b[0m in \u001b[0;36m<module>\u001b[0;34m()\u001b[0m\n\u001b[1;32m      1\u001b[0m \u001b[0mprint\u001b[0m\u001b[0;34m(\u001b[0m\u001b[0;36m1\u001b[0m \u001b[0;34m+\u001b[0m \u001b[0;36m2.0\u001b[0m\u001b[0;34m)\u001b[0m    \u001b[0;31m# o Python converte 1 para 1.0 (ok, é razoável)\u001b[0m\u001b[0;34m\u001b[0m\u001b[0;34m\u001b[0m\u001b[0m\n\u001b[1;32m      2\u001b[0m \u001b[0mprint\u001b[0m\u001b[0;34m(\u001b[0m\u001b[0;36m1\u001b[0m \u001b[0;34m+\u001b[0m \u001b[0;32mTrue\u001b[0m\u001b[0;34m)\u001b[0m   \u001b[0;31m# o Python converte True para 1 (what?)\u001b[0m\u001b[0;34m\u001b[0m\u001b[0;34m\u001b[0m\u001b[0m\n\u001b[0;32m----> 3\u001b[0;31m \u001b[0mprint\u001b[0m\u001b[0;34m(\u001b[0m\u001b[0;36m1\u001b[0m \u001b[0;34m+\u001b[0m \u001b[0;34m\"True\"\u001b[0m\u001b[0;34m)\u001b[0m \u001b[0;31m# o Python é bonzinho mas não faz milagres\u001b[0m\u001b[0;34m\u001b[0m\u001b[0;34m\u001b[0m\u001b[0m\n\u001b[0m",
      "\u001b[0;31mTypeError\u001b[0m: unsupported operand type(s) for +: 'int' and 'str'"
     ]
    }
   ],
   "source": [
    "print(1 + 2.0)    # o Python converte 1 para 1.0 \n",
    "print(1 + True)   # o Python converte True para 1\n",
    "print(1 + \"True\") # o Python é bonzinho mas não faz milagres"
   ]
  },
  {
   "cell_type": "markdown",
   "metadata": {
    "id": "bvZsDvZ1cjTU"
   },
   "source": [
    "\n",
    "\n",
    "---\n",
    "\n"
   ]
  },
  {
   "cell_type": "markdown",
   "metadata": {
    "id": "q4tQXAr38tIa"
   },
   "source": [
    "Vejamos agora outra fonte de erros semânticos. Considere que queríamos calcular $\\frac{1}{2 \\times 3}$"
   ]
  },
  {
   "cell_type": "code",
   "execution_count": null,
   "metadata": {
    "colab": {
     "base_uri": "https://localhost:8080/",
     "height": 35
    },
    "id": "PgZuw_QJ85yU",
    "outputId": "92caaf19-a94a-4a02-87b5-05d9fec878c9"
   },
   "outputs": [
    {
     "name": "stdout",
     "output_type": "stream",
     "text": [
      "1.5\n"
     ]
    }
   ],
   "source": [
    "print(1.0 / 2.0 * 3.0)"
   ]
  },
  {
   "cell_type": "markdown",
   "metadata": {
    "id": "mQq8zm7t8_DK"
   },
   "source": [
    "O que aconteceu? O resultado devia ser $\\frac{1}{6} = 0.1(6) \\approx 0.166666$.\n",
    "\n",
    "Os vários operadores Python tem diferentes **precedências**. Tal e qual como na Matemática. Se escrevesse a expressão $1/2\\times 3$ vocês fariam a divisão primeiro porque assim estão habituados. O Python espelha essa experiência, o que explica o resultado anterior.\n",
    "\n",
    "Mas o que queremos neste exemplo é fazer a multiplicação primeiro. Para tal, temos de passar por cima das precedências por defeito e usar parênteses:"
   ]
  },
  {
   "cell_type": "code",
   "execution_count": null,
   "metadata": {
    "colab": {
     "base_uri": "https://localhost:8080/",
     "height": 35
    },
    "id": "gnppd0C39F3W",
    "outputId": "e8cb1a34-7710-4e92-9a11-79ad8b8a1c42"
   },
   "outputs": [
    {
     "name": "stdout",
     "output_type": "stream",
     "text": [
      "0.16666666666666666\n"
     ]
    }
   ],
   "source": [
    "print(1.0 / (2.0 * 3.0))"
   ]
  },
  {
   "cell_type": "markdown",
   "metadata": {
    "id": "Rd0MJLr_-NDJ"
   },
   "source": [
    "As precedências dos operadores numéricos são o esperado: primeiro a exponenciação, depois a multiplicação e divisão, depois a soma e subtração. Operadores com igual precedência executam-se da esquerda para a direita, exceto a exponenciação."
   ]
  },
  {
   "cell_type": "code",
   "execution_count": null,
   "metadata": {
    "colab": {
     "base_uri": "https://localhost:8080/",
     "height": 72
    },
    "id": "bnms0EyF-mK0",
    "outputId": "c70e408c-7146-4502-b89b-c84190ec0922"
   },
   "outputs": [
    {
     "name": "stdout",
     "output_type": "stream",
     "text": [
      "0.16666666666666666\n",
      "512\n",
      "64\n"
     ]
    }
   ],
   "source": [
    "print(1/2/3)     # (1/2) / 3 == 0.5 / 3 = 1 / 6\n",
    "print(2**3**2)   # 2^(3^2) == 2^9 == 512\n",
    "print((2**3)**2) # (2^3)^2 == 8^2 == 64"
   ]
  },
  {
   "cell_type": "markdown",
   "metadata": {
    "id": "OAuJjV2-_ZeA"
   },
   "source": [
    "Para as precedências dos operadores dos outros tipos, não vamos complicar. Enquanto não se habituarem a programar sigam uma estratégia não muito subtil mas eficaz: *usem parênteses*!"
   ]
  },
  {
   "cell_type": "markdown",
   "metadata": {
    "id": "_Xs-QkXtb8pI"
   },
   "source": [
    "\n",
    "\n",
    "---\n",
    "\n"
   ]
  },
  {
   "cell_type": "markdown",
   "metadata": {
    "id": "5l45rd4sM-qd"
   },
   "source": [
    "Existem muitas funções Python para manipulação numérica. Várias delas encontram-se no módulo `math`.\n",
    "\n",
    "Um **módulo** Python é um conjunto de funcionalidades organizadas tematicamente. No caso do `math` o tema é, sem surpresa, a matemática. Para usar as funcionalidades de um módulo temos de o importar com o comando `import`:"
   ]
  },
  {
   "cell_type": "code",
   "execution_count": null,
   "metadata": {
    "colab": {
     "base_uri": "https://localhost:8080/",
     "height": 109
    },
    "id": "0e9w3NqpM_ML",
    "outputId": "df79f5bd-8a95-4169-d45e-8d27509386b7"
   },
   "outputs": [
    {
     "name": "stdout",
     "output_type": "stream",
     "text": [
      "1\n",
      "2\n",
      "30414093201713378043612608166064768844377641568960512000000000000\n",
      "3.141592653589793\n",
      "1.0\n"
     ]
    }
   ],
   "source": [
    "import math\n",
    "\n",
    "print(math.floor(1.55))    # arredonda para baixo\n",
    "print(math.ceil(1.55))     # arredonda para cima \n",
    "print(math.factorial(50))  # função fatorial\n",
    "print(math.pi)             # constante matemática\n",
    "print(math.cos(math.pi/2)**2 + math.sin(math.pi/2)**2)  # cos(x)^2 + sin(x)^2 == 1"
   ]
  },
  {
   "cell_type": "markdown",
   "metadata": {
    "id": "P1trJYi1Qzs3"
   },
   "source": [
    "O Python é uma das linguagens mais usadas no Mundo. O número disponível de módulos Python andará na ordem das dezenas de milhar. Os temas abordados cobrem basicamente todas as áreas da Ciência e Matemática (e não só). É o seu ecossistema de funcionalidades que dá enorme riqueza a uma linguagem de programação."
   ]
  },
  {
   "cell_type": "markdown",
   "metadata": {
    "id": "Xg0cfsmece32"
   },
   "source": [
    "\n",
    "\n",
    "---\n",
    "\n"
   ]
  },
  {
   "cell_type": "markdown",
   "metadata": {
    "id": "kATn2obx0_hi"
   },
   "source": [
    "Terminamos esta secção conhecendo quatro tipos: `int`, `str`, `float`, e `bool`. À medida que avançarmos na matéria iremos ver que o Python tem bastantes mais tipos. \n",
    "\n",
    "Todos os tipos podem ser vistos da seguinte perspetiva: *um tipo é um conjunto de valores relacionados por um conjunto de operações*.\n",
    "\n",
    "O Python permite criar novos tipos desde que sejamos capaz de definir quais são os seus valores e que operações os relacionam (mas este será um assunto para Programação II). Aqui em Programação I iremos bastante longe usando apenas os tipos que o Python disponibiliza."
   ]
  },
  {
   "cell_type": "markdown",
   "metadata": {
    "id": "WFh24MGhJBW6"
   },
   "source": [
    "## Variáveis"
   ]
  },
  {
   "cell_type": "markdown",
   "metadata": {
    "id": "3i7HcE5DJDg-"
   },
   "source": [
    "Uma das características de linguagens de programação, como o Python, é a capacidade de armazenar informação enquanto a computação se desenrola. O Python permite gerirmos essa informação com o uso de variáveis.\n",
    "\n",
    "Uma **variável** é identificada por um nome e está associada a um espaço de memória onde se podem guardar valores. \n",
    "\n",
    "Usa-se o operador de atribuição `=` para criar variáveis e associar-lhes valores.\n"
   ]
  },
  {
   "cell_type": "code",
   "execution_count": null,
   "metadata": {
    "id": "vx0kzanHXWOv"
   },
   "outputs": [],
   "source": [
    "aMinhaPrimeiraVariavel = 1 + 2"
   ]
  },
  {
   "cell_type": "markdown",
   "metadata": {
    "id": "e2iG8LQLX07h"
   },
   "source": [
    "Seja o comando de atribuição `variavel = expressão`. A ação que decorre de executar este comando é a seguinte:\n",
    "\n",
    "+ O Python avalia a expressão à direita do comando de atribuição e armazena o valor da expressão num espaço de memória.\n",
    "\n",
    "+ O Python cria uma variável cujo nome é `variavel`\n",
    "\n",
    "+ O Python associa à respetiva variável, o espaço de memória onde se encontra o valor da expressão\n",
    "\n",
    "No exemplo acima, o resultado da expressão `1+2` (ou seja, `3`) vai ficar associado à variável de nome `aMinhaPrimeiraVariavel`. \n",
    "\n",
    "Adiante no programa podemos recuperar o valor associado à variável:"
   ]
  },
  {
   "cell_type": "code",
   "execution_count": null,
   "metadata": {
    "colab": {
     "base_uri": "https://localhost:8080/",
     "height": 35
    },
    "id": "DMtAfgeQYBPZ",
    "outputId": "63dbf32f-03e9-4f04-f468-bf6c142fd72a"
   },
   "outputs": [
    {
     "name": "stdout",
     "output_type": "stream",
     "text": [
      "7\n"
     ]
    }
   ],
   "source": [
    "aMinhaSegundaVariavel = 4\n",
    "\n",
    "print(aMinhaPrimeiraVariavel + aMinhaSegundaVariavel)"
   ]
  },
  {
   "cell_type": "markdown",
   "metadata": {
    "id": "Y5c7_V6gpu4B"
   },
   "source": [
    "Podemos usar a função `type` para determinar o tipo de uma variável"
   ]
  },
  {
   "cell_type": "code",
   "execution_count": null,
   "metadata": {
    "colab": {
     "base_uri": "https://localhost:8080/",
     "height": 35
    },
    "id": "3Z1uzkYCp0qm",
    "outputId": "a70fe12b-1063-4655-fd01-044ceb0bce39"
   },
   "outputs": [
    {
     "data": {
      "text/plain": [
       "int"
      ]
     },
     "execution_count": 2,
     "metadata": {
      "tags": []
     },
     "output_type": "execute_result"
    }
   ],
   "source": [
    "type(aMinhaPrimeiraVariavel)  # devolve o tipo do valor associado à variável"
   ]
  },
  {
   "cell_type": "markdown",
   "metadata": {
    "id": "dd0gL79Mp8Hv"
   },
   "source": [
    "\n",
    "O Python tem a função `isinstance` que nos permite verificar se uma dada variável pertence a um tipo."
   ]
  },
  {
   "cell_type": "code",
   "execution_count": null,
   "metadata": {
    "colab": {
     "base_uri": "https://localhost:8080/",
     "height": 72
    },
    "id": "_EWkQkPip_-W",
    "outputId": "b9b88072-d4c7-4141-f007-9b6ee352e582"
   },
   "outputs": [
    {
     "name": "stdout",
     "output_type": "stream",
     "text": [
      "True\n",
      "False\n",
      "False\n"
     ]
    }
   ],
   "source": [
    "print( isinstance(aMinhaPrimeiraVariavel, int) )\n",
    "print( isinstance(aMinhaPrimeiraVariavel, float) )\n",
    "print( isinstance(aMinhaPrimeiraVariavel, bool) )"
   ]
  },
  {
   "cell_type": "markdown",
   "metadata": {
    "id": "fmLcNXbKYo3S"
   },
   "source": [
    "As variáveis podem ser reutilizadas:"
   ]
  },
  {
   "cell_type": "code",
   "execution_count": null,
   "metadata": {
    "colab": {
     "base_uri": "https://localhost:8080/",
     "height": 54
    },
    "id": "IhZdCe38YsqT",
    "outputId": "8243097c-6e46-4400-99bd-f3bf9849006f"
   },
   "outputs": [
    {
     "name": "stdout",
     "output_type": "stream",
     "text": [
      "agora é uma frase\n"
     ]
    },
    {
     "data": {
      "text/plain": [
       "str"
      ]
     },
     "execution_count": 28,
     "metadata": {
      "tags": []
     },
     "output_type": "execute_result"
    }
   ],
   "source": [
    "aMinhaPrimeiraVariavel = \"agora é uma frase\"\n",
    "\n",
    "print(aMinhaPrimeiraVariavel)\n",
    "\n",
    "type(aMinhaPrimeiraVariavel)"
   ]
  },
  {
   "cell_type": "markdown",
   "metadata": {
    "id": "zLKL-d4ODjQl"
   },
   "source": [
    "\n",
    "\n",
    "---\n",
    "\n"
   ]
  },
  {
   "cell_type": "markdown",
   "metadata": {
    "id": "lri-aQEWY9YX"
   },
   "source": [
    "Para nomes de variáveis usem apenas letras, dígitos e o underscore `_`. Não podem começar o nome da variável com um dígito. \n",
    "\n",
    "A sugestão da disciplina é usarem a convenção conhecida por [camelCase](https://pt.wikipedia.org/wiki/CamelCase) começando sempre com uma letra minúscula e separando palavras com Maiúsculas. \n",
    "\n",
    "E não se esqueçam de dar nomes informativos às variáveis que façam sentido no contexto do programa."
   ]
  },
  {
   "cell_type": "code",
   "execution_count": null,
   "metadata": {
    "colab": {
     "base_uri": "https://localhost:8080/",
     "height": 135
    },
    "id": "r9rDo_GSZvVt",
    "outputId": "89156bd6-5500-4406-b915-6f5667b88eca"
   },
   "outputs": [
    {
     "ename": "SyntaxError",
     "evalue": "ignored",
     "output_type": "error",
     "traceback": [
      "\u001b[0;36m  File \u001b[0;32m\"<ipython-input-25-b3a49d5b1ec0>\"\u001b[0;36m, line \u001b[0;32m5\u001b[0m\n\u001b[0;31m    1valor = 1           # BIG Mistake!\u001b[0m\n\u001b[0m         ^\u001b[0m\n\u001b[0;31mSyntaxError\u001b[0m\u001b[0;31m:\u001b[0m invalid syntax\n"
     ]
    }
   ],
   "source": [
    "elementoNeutro = 1   # boa!\n",
    "elemento_neutro = 1  # também ok\n",
    "elementoN = 1        # o que significa mesmo?\n",
    "_en1 = 1             # <facepalm>\n",
    "1valor = 1           # BIG Mistake!"
   ]
  },
  {
   "cell_type": "markdown",
   "metadata": {
    "id": "GcwYzbhsB2rH"
   },
   "source": [
    "Comparem estes dois programas que, quando executados, produzem a mesma computação:\n"
   ]
  },
  {
   "cell_type": "code",
   "execution_count": null,
   "metadata": {
    "colab": {
     "base_uri": "https://localhost:8080/",
     "height": 54
    },
    "id": "XJnGIxWqCBgp",
    "outputId": "5635309a-a20d-41f4-b379-e111fa5c0013"
   },
   "outputs": [
    {
     "name": "stdout",
     "output_type": "stream",
     "text": [
      "25.0\n",
      "25.0\n"
     ]
    }
   ],
   "source": [
    "# Primeiro Programa\n",
    "bt = 10.0\n",
    "ht = 5.0\n",
    "at = bt * ht / 2\n",
    "print(at)\n",
    "\n",
    "# Segundo Programa\n",
    "baseTriangulo = 10.0\n",
    "alturaTriangulo = 5.0\n",
    "areaTriangulo = baseTriangulo * alturaTriangulo / 2\n",
    "print(areaTriangulo)"
   ]
  },
  {
   "cell_type": "markdown",
   "metadata": {
    "id": "wDluUUHyCVdS"
   },
   "source": [
    "O primeiro excerto é críptico. O segundo lê-se quase como se de Português se tratasse. \n",
    "\n",
    "No momento em que escrevem o primeiro programa é fácil saber o que se faz. Daqui a seis meses, se forem relê-lo, irão auto-amaldiçoar-se.\n",
    "\n",
    "O segundo programa é sempre claro para quem saiba ler Português."
   ]
  },
  {
   "cell_type": "markdown",
   "metadata": {
    "id": "KNTtppXpDfi6"
   },
   "source": [
    "\n",
    "\n",
    "---\n",
    "\n"
   ]
  },
  {
   "cell_type": "markdown",
   "metadata": {
    "id": "ohfDFCjLsi2C"
   },
   "source": [
    "Não podem nomear variáveis com as palavras reservadas para comandos Python:"
   ]
  },
  {
   "cell_type": "code",
   "execution_count": null,
   "metadata": {
    "colab": {
     "base_uri": "https://localhost:8080/",
     "height": 135
    },
    "id": "XMAiPQ3Csp_N",
    "outputId": "e9219a71-04a3-41b8-c2ba-efecd0f4591c"
   },
   "outputs": [
    {
     "ename": "SyntaxError",
     "evalue": "ignored",
     "output_type": "error",
     "traceback": [
      "\u001b[0;36m  File \u001b[0;32m\"<ipython-input-26-f76ce0fc3d08>\"\u001b[0;36m, line \u001b[0;32m1\u001b[0m\n\u001b[0;31m    import = 1\u001b[0m\n\u001b[0m           ^\u001b[0m\n\u001b[0;31mSyntaxError\u001b[0m\u001b[0;31m:\u001b[0m invalid syntax\n"
     ]
    }
   ],
   "source": [
    "import = 1"
   ]
  },
  {
   "cell_type": "markdown",
   "metadata": {
    "id": "LaVM-mf3t5AY"
   },
   "source": [
    "A lista das palavras reservadas é a seguinte:"
   ]
  },
  {
   "cell_type": "code",
   "execution_count": null,
   "metadata": {
    "colab": {
     "base_uri": "https://localhost:8080/",
     "height": 55
    },
    "id": "rEHwCPIps6Vc",
    "outputId": "ceb390ea-6316-4ba7-84d3-eab367db832c"
   },
   "outputs": [
    {
     "data": {
      "text/plain": [
       "'False None True and as assert break class continue def del elif else except finally for from global if import in is lambda nonlocal not or pass raise return try while with yield'"
      ]
     },
     "execution_count": 39,
     "metadata": {
      "tags": []
     },
     "output_type": "execute_result"
    }
   ],
   "source": [
    "import keyword\n",
    "\n",
    "' '.join(keyword.kwlist)  # para já, não olhar para este comando!"
   ]
  },
  {
   "cell_type": "markdown",
   "metadata": {
    "id": "8pp8a5EXDhA_"
   },
   "source": [
    "\n",
    "\n",
    "---\n",
    "\n"
   ]
  },
  {
   "cell_type": "markdown",
   "metadata": {
    "id": "RClpmiW44EOl"
   },
   "source": [
    "Uma variável pode aparecer à direita do operador de atribuição, no meio de uma expressão. Neste caso, o Python vai buscar o valor associado à variável e usa-o na expressão."
   ]
  },
  {
   "cell_type": "code",
   "execution_count": null,
   "metadata": {
    "colab": {
     "base_uri": "https://localhost:8080/",
     "height": 35
    },
    "id": "vVxsVfZT4KIp",
    "outputId": "1d7d351e-8d7d-442a-e4e2-0a82512c16c7"
   },
   "outputs": [
    {
     "name": "stdout",
     "output_type": "stream",
     "text": [
      "101\n"
     ]
    }
   ],
   "source": [
    "umValor = 100\n",
    "oValorSeguinte = umValor + 1\n",
    "\n",
    "print(oValorSeguinte)"
   ]
  },
  {
   "cell_type": "markdown",
   "metadata": {
    "id": "pyPRuj4B4as9"
   },
   "source": [
    "E até pode aparecer nos dois lados ao mesmo tempo:"
   ]
  },
  {
   "cell_type": "code",
   "execution_count": null,
   "metadata": {
    "colab": {
     "base_uri": "https://localhost:8080/",
     "height": 35
    },
    "id": "hhIFISCL4hPz",
    "outputId": "c1db79c9-6e8d-4f1c-ac5b-cd600f60df74"
   },
   "outputs": [
    {
     "name": "stdout",
     "output_type": "stream",
     "text": [
      "200\n"
     ]
    }
   ],
   "source": [
    "umValor = 100\n",
    "umValor = 2 * umValor\n",
    "\n",
    "print(umValor)"
   ]
  },
  {
   "cell_type": "markdown",
   "metadata": {
    "id": "L1vEXL3V4pOQ"
   },
   "source": [
    "Só para esclarecer uma dúvida comum: uma variável do Python não é uma variável matemática. Quando escrevemos uma equação $x = x + 1$, esta equação não pode ser satisfeita em $x \\in \\mathbb{R}$.\n",
    "\n",
    "Mas em Python $x = x + 1$ não tem esta semântica. O operador `=` não representa igualdade mas sim atribuição. Quando avaliamos o comando `x = x + 1` o que estamos a dizer é o seguinte:\n",
    "\n",
    "1. Avaliar a expressão `x + 1`\n",
    "\n",
    "2. Atribuir o valor da expressão à variável `x`\n",
    "\n",
    "O Python: *Era a mesma variável? Nem tinha reparado...*"
   ]
  },
  {
   "cell_type": "markdown",
   "metadata": {
    "id": "MJPbSEujcBdI"
   },
   "source": [
    "\n",
    "\n",
    "---\n",
    "\n"
   ]
  },
  {
   "cell_type": "markdown",
   "metadata": {
    "id": "w8DJX1fZDcf5"
   },
   "source": [
    "O operador de atribuição tem uma variante sintática em que se pode atribuir várias variáveis ao mesmo tempo."
   ]
  },
  {
   "cell_type": "code",
   "execution_count": null,
   "metadata": {
    "colab": {
     "base_uri": "https://localhost:8080/",
     "height": 35
    },
    "id": "YvmPykMPAwEn",
    "outputId": "94468978-761c-4ece-f453-d9e728c02dd2"
   },
   "outputs": [
    {
     "name": "stdout",
     "output_type": "stream",
     "text": [
      "25.0\n"
     ]
    }
   ],
   "source": [
    "baseTriangulo, alturaTriangulo = 10.0, 5.0\n",
    "areaTriangulo = baseTriangulo * alturaTriangulo / 2\n",
    "\n",
    "print(areaTriangulo)"
   ]
  },
  {
   "cell_type": "markdown",
   "metadata": {
    "id": "8iOYyrhUD_C5"
   },
   "source": [
    "Sugiro que tenham cuidado ao usar este operador, para manter a legibilidade dos vossos programas. \n",
    "\n",
    "Porém, há situações em que dá muito jeito. Por exemplo, quando queremos trocar o valor de duas variáveis:"
   ]
  },
  {
   "cell_type": "code",
   "execution_count": null,
   "metadata": {
    "colab": {
     "base_uri": "https://localhost:8080/",
     "height": 54
    },
    "id": "xYIUGxLdEK2P",
    "outputId": "a9d0380d-6d99-4a5b-b371-8c86f54e9263"
   },
   "outputs": [
    {
     "name": "stdout",
     "output_type": "stream",
     "text": [
      "1 2\n",
      "2 1\n"
     ]
    }
   ],
   "source": [
    "a = 1\n",
    "b = 2\n",
    "print(a, b)\n",
    "\n",
    "a, b = b, a\n",
    "print(a, b)"
   ]
  },
  {
   "cell_type": "markdown",
   "metadata": {
    "id": "tP3h2eJqE4Sw"
   },
   "source": [
    "## Exercícios"
   ]
  },
  {
   "cell_type": "markdown",
   "metadata": {
    "id": "hMWT4WOOKSZs"
   },
   "source": [
    "As *strings* em Python têm uma funcionalidade chamada de `format` que facilita a inclusão de valores de variáveis. Eis um exemplo:"
   ]
  },
  {
   "cell_type": "code",
   "execution_count": null,
   "metadata": {
    "colab": {
     "base_uri": "https://localhost:8080/",
     "height": 35
    },
    "id": "7JYrx9wBFHdl",
    "outputId": "063fee4b-5347-451d-8372-a05a96ced00e"
   },
   "outputs": [
    {
     "name": "stdout",
     "output_type": "stream",
     "text": [
      "A base do triângulo é 10.0 cm, a altura é 5.0 cm, o que resulta numa area de 25.0 cm²\n"
     ]
    }
   ],
   "source": [
    "report = \"A base do triângulo é {0} cm, a altura é {1} cm, o que resulta numa area de {2} cm²\"\n",
    "\n",
    "print(report.format(baseTriangulo, alturaTriangulo, areaTriangulo))"
   ]
  },
  {
   "cell_type": "markdown",
   "metadata": {
    "id": "VLtKzaawE7UK"
   },
   "source": [
    "<font size=\"+4\" color=\"blue;green\"><b>?</b></font>\n",
    "Escreva um programa que produza o seguinte output\n",
    "\n",
    "          A maria tem 165cm de altura, o que também é dizer que tem 1.65m\n",
    "          O joao tem 170cm de altura\n",
    "          A soma das suas alturas, em mm, é de 3350mm"
   ]
  },
  {
   "cell_type": "code",
   "execution_count": 9,
   "metadata": {
    "id": "4JWTEqnSKu4X"
   },
   "outputs": [
    {
     "name": "stdout",
     "output_type": "stream",
     "text": [
      "A maria tem 165cm de altura, o q tmb é dizer q tem 1.65m\n",
      "O joao tem 170cm de altura\n",
      "A soma das suas alturas, em mm, é de 3350mm\n"
     ]
    }
   ],
   "source": [
    "alturaMaria = 165\n",
    "alturaJoao = 170\n",
    "\n",
    "   # ponham aqui a vossa solução\n",
    "print(\"A maria tem {0}cm de altura, o q tmb é dizer q tem {1}m\\nO joao tem {2}cm de altura\\nA soma das suas alturas, em mm, é de {3}mm\"\n",
    "      .format(alturaMaria, alturaMaria/100, alturaJoao, (alturaMaria+alturaJoao)*10))"
   ]
  },
  {
   "cell_type": "markdown",
   "metadata": {
    "id": "Er5sRiccJAGj"
   },
   "source": [
    "\n",
    "\n",
    "---\n",
    "\n"
   ]
  },
  {
   "cell_type": "markdown",
   "metadata": {
    "id": "TQnMfgZ5LSQD"
   },
   "source": [
    "Considere as seguintes funcionalidades para formatar números:"
   ]
  },
  {
   "cell_type": "code",
   "execution_count": null,
   "metadata": {
    "colab": {
     "base_uri": "https://localhost:8080/",
     "height": 239
    },
    "id": "HB2UbAd9H5F9",
    "outputId": "0e84c2ce-dc1c-4440-e21d-abde72a1dd9b"
   },
   "outputs": [
    {
     "name": "stdout",
     "output_type": "stream",
     "text": [
      "100\n",
      "------\n",
      "   100\n",
      "  1000\n",
      "----------\n",
      "       100\n",
      "100       \n",
      "   100    \n",
      "------\n",
      "3.1416\n",
      "  3.14\n",
      "003.14\n"
     ]
    }
   ],
   "source": [
    "a = 100\n",
    "pi = 3.141592653589793\n",
    "\n",
    "print('{:d}'.format(a))     # introduzir valor de um inteiro\n",
    "\n",
    "print(\"-\"*6)\n",
    "\n",
    "print('{:6d}'.format(a))    # imprimir número em 6 espaços\n",
    "print('{:6d}'.format(10*a)) \n",
    "\n",
    "print(\"-\"*10)\n",
    "\n",
    "print(\"{:>10}\".format(a))  # ajustar à direita usando 10 espaços\n",
    "print(\"{:<10}\".format(a))  # ajustar à esquerda\n",
    "print(\"{:^10}\".format(a))  # centrar\n",
    "\n",
    "print(\"-\"*6)\n",
    "\n",
    "print('{:6.4f}'.format(pi))   # ocupar 6 espaços, 4 para casas decimais\n",
    "print('{:6.2f}'.format(pi))   # ocupar 6 espaços, 2 para casas decimais\n",
    "print('{:06.2f}'.format(pi))  # por zeros nas posições vagas"
   ]
  },
  {
   "cell_type": "markdown",
   "metadata": {
    "id": "vZFxazbSVoDf"
   },
   "source": [
    "Podem ver mais exemplos [aqui](https://pyformat.info/)."
   ]
  },
  {
   "cell_type": "markdown",
   "metadata": {
    "id": "bJDrNA5ELbno"
   },
   "source": [
    "<font size=\"+4\" color=\"blue;green\"><b>?</b></font>\n",
    "Usando algumas destas funcionalidades, produza o seguinte output\n",
    "\n",
    "\n",
    "        1234567\n",
    "         234567\n",
    "          34567\n",
    "           4567\n",
    "            567\n",
    "             67\n",
    "              7\n",
    "\n"
   ]
  },
  {
   "cell_type": "code",
   "execution_count": 21,
   "metadata": {
    "id": "OfOaIIPTMW-w"
   },
   "outputs": [
    {
     "name": "stdout",
     "output_type": "stream",
     "text": [
      "   12345657\n",
      "    2345657\n",
      "     345657\n",
      "      45657\n",
      "       5657\n",
      "        657\n",
      "         57\n",
      "          7\n"
     ]
    }
   ],
   "source": [
    "a = 12345657\n",
    "\n",
    "   # ponham aqui a vossa solução\n",
    "while(a != 0):\n",
    "    print(\"{:>11}\".format(a))\n",
    "    a = a % (10**(len(str(a))-1))"
   ]
  },
  {
   "cell_type": "markdown",
   "metadata": {
    "id": "JWZZh2lVJJ_j"
   },
   "source": [
    "\n",
    "\n",
    "---\n",
    "\n"
   ]
  },
  {
   "cell_type": "markdown",
   "metadata": {
    "id": "fB6OApaXOzP8"
   },
   "source": [
    "<font size=\"+4\" color=\"blue;green\"><b>?</b></font> Entenda o funcionamento do seguinte programa:"
   ]
  },
  {
   "cell_type": "code",
   "execution_count": null,
   "metadata": {
    "colab": {
     "base_uri": "https://localhost:8080/",
     "height": 331
    },
    "id": "8auV1XY9OEf0",
    "outputId": "20d106ae-a53f-4879-c697-c5907463b268"
   },
   "outputs": [
    {
     "name": "stdout",
     "output_type": "stream",
     "text": [
      "\n",
      "É possível escrever frases maiores com triplas aspas. \n",
      "Assim não é preciso estar sempre a chamar o comando print.\n",
      "Podemos mudar de linha \n",
      " com o símbolo \\n.\n",
      "O símbolo \\t \t salta uma tabulação,  enquanto \\\" permite escrever\n",
      "aspas \" no meio da string.\n",
      "e como já repararam podemos escrever o símbolo \\ com duas \\\\\n",
      "Também aqui se pode usar o format para mostrar valores de\n",
      "variáveis, como a variável 'a' = 100.\n",
      "\n",
      "Uma outra vantagem do Python é que aceita sem problemas a\n",
      "codificação Unicode que inclui letras, emotes e símbolos de culturas\n",
      "de todo o planeta. \n",
      "\n",
      "Exemplos: ɑ → I ♥ 😸, 😀 \n",
      "\n"
     ]
    }
   ],
   "source": [
    "a=100\n",
    "\n",
    "print(\"\"\"\n",
    "É possível escrever frases maiores com triplas aspas. \n",
    "Assim não é preciso estar sempre a chamar o comando print.\n",
    "Podemos mudar de linha \\n com o símbolo \\\\n.\n",
    "O símbolo \\\\t \\t salta uma tabulação,  enquanto \\\\\" permite escrever\n",
    "aspas \\\" no meio da string.\n",
    "e como já repararam podemos escrever o símbolo \\\\ com duas \\\\\\\\\n",
    "Também aqui se pode usar o format para mostrar valores de\n",
    "variáveis, como a variável 'a' = {0}.\n",
    "\n",
    "Uma outra vantagem do Python é que aceita sem problemas a\n",
    "codificação Unicode que inclui letras, emotes e símbolos de culturas\n",
    "de todo o planeta. \n",
    "\n",
    "Exemplos: \\N{LATIN SMALL LETTER ALPHA} \\u2192 I ♥ 😸, \\N{grinning face} \n",
    "\"\"\".format(a))"
   ]
  },
  {
   "cell_type": "markdown",
   "metadata": {
    "id": "Kk8LCt1qjZUZ"
   },
   "source": [
    "Podem ver vários exemplos de [carateres especiais](https://en.wikipedia.org/wiki/List_of_Unicode_characters#Latin-1_Supplement) ou até [nomes para emotes](https://unicode.org/emoji/charts/full-emoji-list.html). "
   ]
  },
  {
   "cell_type": "markdown",
   "metadata": {
    "id": "b_wN3rOhJH31"
   },
   "source": [
    "\n",
    "\n",
    "---\n",
    "\n"
   ]
  },
  {
   "cell_type": "markdown",
   "metadata": {
    "id": "Rw9Y6u-jS1we"
   },
   "source": [
    "Podem usar a função `input` para receber dados do utilizador (têm de premir `ENTER` no fim): "
   ]
  },
  {
   "cell_type": "code",
   "execution_count": null,
   "metadata": {
    "colab": {
     "base_uri": "https://localhost:8080/",
     "height": 35
    },
    "id": "NJJJMfLrFIMS",
    "outputId": "b5902031-a871-426a-b67b-98d9c45477e8"
   },
   "outputs": [
    {
     "name": "stdout",
     "output_type": "stream",
     "text": [
      "Que idade tem? 19\n"
     ]
    }
   ],
   "source": [
    "idade = input(\"Que idade tem? \")"
   ]
  },
  {
   "cell_type": "code",
   "execution_count": null,
   "metadata": {
    "colab": {
     "base_uri": "https://localhost:8080/",
     "height": 35
    },
    "id": "TauEeHUGR-uC",
    "outputId": "a096e735-ca78-4a7e-e9c7-d79106094981"
   },
   "outputs": [
    {
     "name": "stdout",
     "output_type": "stream",
     "text": [
      "Nasceu em que ano? 2000\n"
     ]
    }
   ],
   "source": [
    "anoNascimento = input(\"Nasceu em que ano? \")"
   ]
  },
  {
   "cell_type": "markdown",
   "metadata": {
    "id": "EiE5SgBTS-oi"
   },
   "source": [
    "<font size=\"+4\" color=\"blue;green\"><b>?</b></font> Agora complete o programa para que, baseado nos valores inseridos, se imprima uma frase como a seguinte:\n",
    "\n",
    "`Então estamos no ano 2019 ou 2020`"
   ]
  },
  {
   "cell_type": "code",
   "execution_count": 24,
   "metadata": {
    "id": "bLL56IrMTVeD"
   },
   "outputs": [
    {
     "name": "stdin",
     "output_type": "stream",
     "text": [
      "Q idade tem?  1\n",
      "Nasceu em q ano?  2\n"
     ]
    },
    {
     "name": "stdout",
     "output_type": "stream",
     "text": [
      "Estamos em 3 ou 4\n"
     ]
    }
   ],
   "source": [
    "   # ponham aqui a vossa solução\n",
    "idade = int(input(\"Q idade tem? \"))\n",
    "anoNascimento = int(input(\"Nasceu em q ano? \"))\n",
    "\n",
    "print(\"Estamos no ano {0} ou {1}\".format(anoNascimento+idade, anoNascimento+idade+1))"
   ]
  },
  {
   "cell_type": "markdown",
   "metadata": {
    "id": "vXDO3L-0JCYD"
   },
   "source": [
    "\n",
    "\n",
    "---\n",
    "\n"
   ]
  },
  {
   "cell_type": "markdown",
   "metadata": {
    "id": "H9le60XGVyAx"
   },
   "source": [
    "<font size=\"+4\" color=\"blue;green\"><b>?</b></font> A fórmula para o volume de uma esfera de raio $r$ é \n",
    "\n",
    "$$V = \\frac{4}{3} \\pi r^3$$\n",
    "\n",
    "calcule e imprima o volume de uma esfera de raio $r=1.57$m (mostre o resultado com duas casas decimais)."
   ]
  },
  {
   "cell_type": "code",
   "execution_count": 26,
   "metadata": {
    "id": "zGRnwtD4FIO1"
   },
   "outputs": [
    {
     "name": "stdout",
     "output_type": "stream",
     "text": [
      "16.210047842822668\n"
     ]
    }
   ],
   "source": [
    "   # ponham aqui a vossa solução\n",
    "def volEsfera(raio):\n",
    "    PI = 3.141569\n",
    "    return (4/3)*PI*(raio**3)\n",
    "print(volEsfera(1.57))"
   ]
  },
  {
   "cell_type": "markdown",
   "metadata": {
    "id": "Fbd_qlzLJEae"
   },
   "source": [
    "\n",
    "\n",
    "---\n",
    "\n"
   ]
  },
  {
   "cell_type": "markdown",
   "metadata": {
    "id": "X-HZF00THYzv"
   },
   "source": [
    "<font size=\"+4\" color=\"blue;green\"><b>?</b></font>Qual a área de um hexágono com um lado 10 metros? Mostre o resultado com três casas decimais."
   ]
  },
  {
   "cell_type": "code",
   "execution_count": 33,
   "metadata": {
    "id": "-b_bVNEEHYzy"
   },
   "outputs": [
    {
     "name": "stdout",
     "output_type": "stream",
     "text": [
      "A Area e 259.81\n"
     ]
    }
   ],
   "source": [
    "# ponham aqui a vossa solução\n",
    "import math\n",
    "def areaHex(lado):\n",
    "    return (3/2) * math.sqrt(3) * (lado**2)\n",
    "\n",
    "print(\"A Area e {:.2f}\".format(areaHex(10)))"
   ]
  },
  {
   "cell_type": "markdown",
   "metadata": {
    "id": "4aDUBphXHY0B"
   },
   "source": [
    "\n",
    "\n",
    "---\n",
    "\n"
   ]
  },
  {
   "cell_type": "markdown",
   "metadata": {
    "id": "uAMFx1TBZRYM"
   },
   "source": [
    "<font size=\"+4\" color=\"blue;green\"><b>?</b></font> A fórmula de conversão de graus Fahrenheit para Celsius é\n",
    "\n",
    "$$C = \\frac{5}{9} (F - 32)$$\n",
    "\n",
    "Quantos graus Celsius são 113.4°F? A sua resposta deve ter uma casa decimal."
   ]
  },
  {
   "cell_type": "code",
   "execution_count": 2,
   "metadata": {
    "id": "Ho7LCfDYXdl7"
   },
   "outputs": [
    {
     "name": "stdout",
     "output_type": "stream",
     "text": [
      "23F em celsius é -5.0\n"
     ]
    }
   ],
   "source": [
    "   # ponham aqui a vossa solução\n",
    "def fahrenheitToCelsius(f):\n",
    "    return (5/9)*(f-32)\n",
    "\n",
    "f = 23\n",
    "print(\"{0}F em celsius é {1:.1f}\".format(f, fahrenheitToCelsius(f)))"
   ]
  },
  {
   "cell_type": "markdown",
   "metadata": {
    "id": "O2o5asWcJGrX"
   },
   "source": [
    "\n",
    "\n",
    "---\n",
    "\n"
   ]
  },
  {
   "cell_type": "markdown",
   "metadata": {
    "id": "g-BW3293al3o"
   },
   "source": [
    "<font size=\"+4\" color=\"blue;green\"><b>?</b></font> Adapte a sua solução para pedir os graus Fahrenheit ao utilizador."
   ]
  },
  {
   "cell_type": "code",
   "execution_count": 42,
   "metadata": {
    "id": "ldnlW77GZ1UD"
   },
   "outputs": [
    {
     "name": "stdin",
     "output_type": "stream",
     "text": [
      "Quantos graus fahrenheit?  23\n"
     ]
    },
    {
     "name": "stdout",
     "output_type": "stream",
     "text": [
      "23.0 em celsius é -5.0\n"
     ]
    }
   ],
   "source": [
    "def fahrenheitToCelsius(f):\n",
    "    return (5/9)*(f-32)\n",
    "\n",
    "f = float(input(\"Quantos graus fahrenheit? \"))\n",
    "print(\"{0}F em celsius é {1:.1f}\".format(f, fahrenheitToCelsius(f)))"
   ]
  },
  {
   "cell_type": "markdown",
   "metadata": {
    "id": "fO8JO3OeasTk"
   },
   "source": [
    "\n",
    "\n",
    "---\n",
    "\n"
   ]
  },
  {
   "cell_type": "markdown",
   "metadata": {
    "id": "kAP1O1NhXHMn"
   },
   "source": [
    "<font size=\"+4\" color=\"blue;green\"><b>?</b></font> Saí de casa às 7:01 e corri 3.6Km a um ritmo de 12Km/h e depois andei 2 Km a 5Km/h. A que horas voltei para casa?"
   ]
  },
  {
   "cell_type": "code",
   "execution_count": 1,
   "metadata": {
    "id": "-BbrMvN-FIRG"
   },
   "outputs": [
    {
     "name": "stdout",
     "output_type": "stream",
     "text": [
      "Cheguei às 7:43\n"
     ]
    }
   ],
   "source": [
    "#ponham aqui a vossa solução\n",
    "saidaCasa = (7*60) + 1\n",
    "\n",
    "minutosCorrida = (3.6 / 12) * 60\n",
    "minutosMarcha = (2 / 5) * 60\n",
    "\n",
    "chegadaCasa = int(saidaCasa + minutosCorrida + minutosMarcha)\n",
    "print(\"Cheguei às {0}:{1}\".format(chegadaCasa//60, chegadaCasa%60))"
   ]
  },
  {
   "cell_type": "markdown",
   "metadata": {
    "id": "UK3ws232JF-j"
   },
   "source": [
    "\n",
    "\n",
    "---\n",
    "\n"
   ]
  },
  {
   "cell_type": "markdown",
   "metadata": {
    "id": "CC9-skAaenst"
   },
   "source": [
    "<font size=\"+4\" color=\"blue;green\"><b>?</b></font> Escreva um programa que leia um valor em segundos depois imprima o tempo\n",
    "equivalente em horas. Por exemplo, 9999 segundos é equivalente a 2 horas, 46\n",
    "minutos e 39 segundos."
   ]
  },
  {
   "cell_type": "code",
   "execution_count": 4,
   "metadata": {
    "id": "LjkDbAVNZ19t"
   },
   "outputs": [
    {
     "name": "stdout",
     "output_type": "stream",
     "text": [
      "Quantos segundos? 6543\n",
      "1h 49m 3s\n"
     ]
    }
   ],
   "source": [
    "totalSegundos = int(input(\"Quantos segundos? \"))\n",
    "\n",
    "# ponham aqui a vossa solução\n",
    "minutos, segundos = divmod(totalSegundos, 60)\n",
    "horas, minutos = divmod(minutos, 60)\n",
    "print(\"{0}h {1}m {2}s\".format(horas, minutos, segundos))"
   ]
  },
  {
   "cell_type": "markdown",
   "metadata": {
    "id": "kSwpd0MHgazp"
   },
   "source": [
    "\n"
   ]
  },
  {
   "cell_type": "markdown",
   "metadata": {
    "id": "YkHcovJHgutA"
   },
   "source": [
    "Temos de ter cuidado com as operações sobre valores do tipo `float`. Por exemplo, somar $0.1 + 0.2$ resulta num resultado estranho:"
   ]
  },
  {
   "cell_type": "code",
   "execution_count": null,
   "metadata": {
    "colab": {
     "base_uri": "https://localhost:8080/",
     "height": 35
    },
    "id": "zwltp7h4Z2FD",
    "outputId": "067c2d48-f77f-4b1e-f904-a079cc401dc3"
   },
   "outputs": [
    {
     "name": "stdout",
     "output_type": "stream",
     "text": [
      "0.30000000000000004\n"
     ]
    }
   ],
   "source": [
    "print(0.1 + 0.2)"
   ]
  },
  {
   "cell_type": "markdown",
   "metadata": {
    "id": "5zRRIsQshI1P"
   },
   "source": [
    "Porque acontece isto? Porque o Python armazena números com casas decimais da mesma forma que armazena outros números, numa representação binária que é limitada. A representação é binária porque os computadores internamente só trabalham com zeros e uns.\n",
    "\n",
    "Por exemplo, o número $\\frac{1}{10}=0.1$ não se consegue guardar totalmente porque $0.1$ em binário é $0.0(0011)$, uma dízima infinita periódica. Se guardarmos os primeiros 53 bits desta representação (53 bits é o habitual) então, na verdade não estamos a guardar $0.1$ mas sim\n",
    "\n",
    "$$0.1000000000000000055511151231257827021181583404541015625$$\n",
    "\n",
    "Ou seja, há de imediato um erro associado. E quando começamos a realizar operações esses erros vão acumular-se até aparecerem no output. Como vimos no exemplo anterior, não é preciso muito...\n",
    "\n",
    "De notar que isto não é um defeito do Python, mas sim da forma como representamos números. No nosso sistema de base 10 também não conseguimos representar totalmente $\\frac{1}{3}$ com notação decimal dado que $\\frac{1}{3} = 0.(3)$. Por exemplo, 0.33333333 é apenas uma aproximação, já tem associado um erro. É exatamente o mesmo que está acontecer com o $0.1$ em binário.\n",
    "\n",
    "Se quiserem saber o valor exato que um `float` tem usem o módulo `decimal`:\n"
   ]
  },
  {
   "cell_type": "code",
   "execution_count": 5,
   "metadata": {
    "colab": {
     "base_uri": "https://localhost:8080/",
     "height": 35
    },
    "id": "4zKuxxSAZ2Hl",
    "outputId": "fab02534-fb4c-4b24-e56f-59be1c4c62d4"
   },
   "outputs": [
    {
     "data": {
      "text/plain": [
       "Decimal('2.67499999999999982236431605997495353221893310546875')"
      ]
     },
     "execution_count": 5,
     "metadata": {},
     "output_type": "execute_result"
    }
   ],
   "source": [
    "import decimal \n",
    "\n",
    "decimal.Decimal(2.675)"
   ]
  },
  {
   "cell_type": "markdown",
   "metadata": {
    "id": "hjZBzBWZkTKX"
   },
   "source": [
    "<font size=\"+4\" color=\"blue;green\"><b>?</b></font> E agora a pergunta: expliquem o motivo do seguinte arredondamento ter falhado:"
   ]
  },
  {
   "cell_type": "code",
   "execution_count": null,
   "metadata": {
    "colab": {
     "base_uri": "https://localhost:8080/",
     "height": 35
    },
    "id": "9g1V6T9KZ2KO",
    "outputId": "2b2b5a99-4298-4b27-81a3-3a9240c2931e"
   },
   "outputs": [
    {
     "data": {
      "text/plain": [
       "2.67"
      ]
     },
     "execution_count": 110,
     "metadata": {
      "tags": []
     },
     "output_type": "execute_result"
    }
   ],
   "source": [
    "round(2.675, 2)"
   ]
  },
  {
   "cell_type": "code",
   "execution_count": null,
   "metadata": {
    "id": "LpKYKVJcZ2Mq"
   },
   "outputs": [],
   "source": [
    "   # ponham aqui a vossa solução\n",
    "# pq é guardado 2.67499999999999982236431605997495353221893310546875"
   ]
  }
 ],
 "metadata": {
  "colab": {
   "collapsed_sections": [],
   "name": "Cap01 - Intro Python - Alunos.ipynb",
   "provenance": []
  },
  "kernelspec": {
   "display_name": "Python 3",
   "language": "python",
   "name": "python3"
  },
  "language_info": {
   "codemirror_mode": {
    "name": "ipython",
    "version": 3
   },
   "file_extension": ".py",
   "mimetype": "text/x-python",
   "name": "python",
   "nbconvert_exporter": "python",
   "pygments_lexer": "ipython3",
   "version": "3.8.3"
  }
 },
 "nbformat": 4,
 "nbformat_minor": 2
}
